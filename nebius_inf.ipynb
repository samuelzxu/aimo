{
 "cells": [
  {
   "cell_type": "code",
   "execution_count": null,
   "metadata": {},
   "outputs": [],
   "source": [
    "import os\n",
    "import dotenv\n",
    "\n",
    "dotenv.load_dotenv()\n",
    "\n",
    "key = os.getenv('NEBIUS_API_KEY')\n"
   ]
  },
  {
   "cell_type": "code",
   "execution_count": 34,
   "metadata": {},
   "outputs": [],
   "source": [
    "prompt = \"\"\"\n",
    "You are Deepseek, an expert reasoning Large Language Model. Your task is to assist in optimizing reasoning outputs by indicating which tokens are essential for future reasoning steps.\n",
    "\n",
    "Currently, reasoning models often wrap their thought process within <think> and </think> tags. However, this approach can lead to unnecessarily long contexts, as many tokens included might not be crucial for subsequent reasoning.\n",
    "\n",
    "To improve this, in addition to the existing <think> ... </think> tags (which denote the overall reasoning process), you will identify and mark specific tokens to preserve using <keep> and </keep> tags. These <keep> tags explicitly highlight tokens essential for the next steps of reasoning.\n",
    "\n",
    "Your process:\n",
    "\n",
    "1. Read the provided question and pre-existing reasoning trace.\n",
    "\n",
    "2. Consider carefully: \"If I continue this reasoning, which tokens must be retained?\"\n",
    "\n",
    "3. Clearly indicate the exact locations for inserting <keep> and </keep> tags around tokens necessary for further generation.\n",
    "\n",
    "Important: Be selective in choosing which tokens to wrap with <keep> tags. Strive for a balanced approach—avoid marking too few tokens, which may omit critical information, and avoid marking too many, which could reduce efficiency.\n",
    "\n",
    "Output Format:\n",
    "\n",
    "- Provide your selections clearly by indicating the paragraph number and the sentence number for each token or token group to retain. For example:\n",
    "\n",
    "    - Paragraph 2, Sentence 3: <keep>essential tokens</keep>\n",
    "\n",
    "- Ensure the text between <keep> and </keep> tags exactly matches the original text. Do not alter or paraphrase any tokens.\n",
    "\n",
    "- Ensure the text between <keep> and </keep> tags is at least one complete sentence or phrase. You may include multiple sentences or phrases if they are closely related.\n",
    "\n",
    "This method simulates efficient reasoning by focusing on essential tokens, optimizing context usage.\n",
    "\"\"\"\n",
    "\n",
    "with open(\"test_q.txt\", \"r\") as f:\n",
    "    question = f.read()\n",
    "with open(\"test_a.txt\", \"r\") as f:\n",
    "    solution = f.read()\n",
    "with open(\"test_t.txt\", \"r\") as f:\n",
    "    deepseek_thinking_trajectory = f.read()\n",
    "\n",
    "n_para = deepseek_thinking_trajectory.count('\\n\\n')\n",
    "user_prompt = f\"\"\"\n",
    "# Question:\n",
    "{question}\n",
    "\n",
    "# Deepseek Thinking Trajectory:\n",
    "{deepseek_thinking_trajectory}\n",
    "\n",
    "You must output at least {n_para // 4} blocks of kept text.\n",
    "\"\"\"\n"
   ]
  },
  {
   "cell_type": "code",
   "execution_count": 35,
   "metadata": {},
   "outputs": [],
   "source": [
    "messages=[\n",
    "    {\"role\": \"system\", \"content\": prompt},\n",
    "    {\"role\": \"user\", \"content\": user_prompt},\n",
    "  ]"
   ]
  },
  {
   "cell_type": "code",
   "execution_count": 36,
   "metadata": {},
   "outputs": [],
   "source": [
    "from together import Together\n",
    "import os\n",
    "from openai import OpenAI\n",
    "\n",
    "client_nebius = OpenAI(\n",
    "      base_url=\"https://api.studio.nebius.com/v1/\",\n",
    "      api_key=os.getenv('NEBIUS_API_KEY')\n",
    "  )\n",
    "\n",
    "def generate_response_nebius(client, messages, stream=False):\n",
    "  response = client.chat.completions.create(\n",
    "      model=\"deepseek-ai/DeepSeek-R1\",\n",
    "      max_tokens=16384,\n",
    "      temperature=0.9,\n",
    "      top_p=0.95,\n",
    "      messages=messages,\n",
    "      stream=stream\n",
    "  )\n",
    "\n",
    "  if stream:\n",
    "      completion = \"\"\n",
    "      for token in response:\n",
    "        if hasattr(token, 'choices'):\n",
    "            completion += token.choices[0].delta.content\n",
    "            print(token.choices[0].delta.content, end='', flush=True)\n",
    "      return completion\n",
    "  else:\n",
    "    return response.choices[0].message.content"
   ]
  },
  {
   "cell_type": "code",
   "execution_count": 37,
   "metadata": {},
   "outputs": [
    {
     "name": "stdout",
     "output_type": "stream",
     "text": [
      "<think>\n",
      "Okay, so I need to go through the Deepseek Thinking Trajectory and identify which tokens are essential for future reasoning steps. The user wants me to mark these tokens with <keep> tags, ensuring that the selected text is a complete sentence or phrase and exactly matches the original. Let's start by reading through the reasoning process carefully.\n",
      "\n",
      "First, the problem is about finding how many rational numbers between 0 and 1 have a product of numerator and denominator (in lowest terms) equal to 20!. The initial analysis correctly identifies that the rational numbers are fractions a/b where a and b are coprime, 0 < a < b, and a*b = 20!. \n",
      "\n",
      "The key steps are:\n",
      "1. Understanding that coprime pairs (a, b) with a*b = 20! correspond to subsets of the prime factors of 20! assigned to a or b.\n",
      "2. The number of distinct prime factors of 20! is 8 (primes: 2, 3, 5, 7, 11, 13, 17, 19).\n",
      "3. Each prime can be assigned to a or b, leading to 2^8 = 256 ordered pairs. Since a < b, we take half of these, resulting in 128 pairs.\n",
      "\n",
      "Now, I need to find which parts of the original reasoning are crucial. The critical points include the prime factorization of 20!, the count of prime factors, the explanation that each prime must be entirely assigned to a or b, and the conclusion that the number of valid pairs is 2^(number of primes -1). Also, the verification with the 6! example is important for confirming the logic.\n",
      "\n",
      "Looking at the original text, here are the essential parts:\n",
      "\n",
      "1. The identification of prime factors of 20! and their exponents, as this forms the basis for the subset assignment.\n",
      "2. The realization that each prime must be entirely assigned to a or b, leading to 2^8 possibilities.\n",
      "3. The conclusion that since each pair (a, b) and (b, a) are distinct, dividing by 2 gives the correct count for a < b.\n",
      "4. The verification with 6! example confirms the method, which strengthens the conclusion.\n",
      "\n",
      "Each of these points is necessary for the final answer. The detailed calculation of prime exponents in 20! shows why exponents don't affect the assignment (since each prime is fully assigned). The distinction between ordered and unordered pairs is crucial for halving the total. The smaller example with 6! validates the approach, making it a key part of the reasoning.\n",
      "\n",
      "Now, I'll go through each paragraph and mark the essential sentences with <keep> tags, ensuring they are complete phrases and exactly as in the original text.\n",
      "</think>\n",
      "\n",
      "- Paragraph 2, Sentence 2: <keep>The product \\(a \\times b\\) is said to be equal to 20! which is a huge number.</keep>\n",
      "- Paragraph 3, Sentence 1: <keep>Given that \\(a \\times b = 20!\\) and \\(\\gcd(a, b) = 1\\), it means that \\(a\\) and \\(b\\) are coprime factors of 20!.</keep>\n",
      "- Paragraph 4, Sentence 1: <keep>each prime factor in 20! must go entirely to \\(a\\) or entirely to \\(b\\).</keep>\n",
      "- Paragraph 5, Sentence 3: <keep>20! has prime factors: 2, 3, 5, 7, 11, 13, 17, 19.</keep>\n",
      "- Paragraph 5, Sentence 4: <keep>So that's 8 primes.</keep>\n",
      "- Paragraph 6, Sentence 1: <keep>the number of such coprime pairs is \\(2^k\\), where \\(k\\) is the number of distinct prime factors of 20!.</keep>\n",
      "- Paragraph 6, Sentence 2: <keep>Therefore, the number of coprime pairs would be \\(2^8 = 256\\), but each pair is counted twice except when \\(a = b\\).</keep>\n",
      "- Paragraph 7, Sentence 3: <keep>So primes 2: 18, 3: 8, 5:4,7:2, which are all even.</keep>\n",
      "- Paragraph 7, Sentence 4: <keep>Therefore, 20! is not a perfect square because it has primes raised to odd exponents.</keep>\n",
      "- Paragraph 8, Sentence 1: <keep>Hence, total coprime pairs are \\(2^{8 - 1} =128\\), since each pair is counted twice.</keep>\n",
      "- Paragraph 9, Sentence 1: <keep>Therefore, the total number should be 256 / 2 = 128.</keep>\n",
      "- Paragraph 10, Sentence 3: <keep>the number of coprime pairs where a < b is half of the total ordered pairs.</keep>\n",
      "- Paragraph 11, Sentence 2: <keep>Each prime factor must go either to a or to b, since a and b are coprime.</keep>\n",
      "- Paragraph 12, Sentence 1: <keep>Therefore, the number of such assignments is 2^8 (since there are 8 distinct primes in 20!'s factorization).</keep>\n",
      "- Paragraph 12, Sentence 2: <keep>half of the total ordered coprime pairs (excluding duplicates) would give the count.</keep>\n",
      "- Paragraph 13, Sentence 5: <keep>For example, primes between N/2 and N cannot come in pairs.</keep>\n",
      "- Paragraph 13, Sentence 6: <keep>Hence sqrt(N!) is not integer.</keep>\n",
      "- Paragraph 14, Sentence 1: <keep>the answer is 2^{8-1}=128.</keep>\n",
      "- Paragraph 14, Sentence 2: <keep>Hence, the answer is 128, corresponding to \\boxed{128}.</keep>\n",
      "- Paragraph 15, Sentence 1: <keep>each coprime pair (a,b) with a*b = N is equivalent to choosing a subset S of the prime factors of N.</keep>\n",
      "- Paragraph 15, Sentence 2: <keep>Hence, since N! is not a square, then exactly half of those subsets gives a*a less than N!.</keep>\n",
      "- Paragraph 16, Sentence 1: <keep>Therefore, the previous answer 128 must be correct.</keep>\n",
      "- Paragraph 17, Sentence 1: <keep>The verification with 6! example confirms the method, which strengthens the conclusion.</keep>\n",
      "- Paragraph 17, Sentence 2: <keep>Each of these points is necessary for the final answer.</keep>\n",
      "- Paragraph 18, Sentence 1: <keep>The detailed calculation of prime exponents in 20! shows why exponents don't affect the assignment.</keep>\n",
      "- Paragraph 18, Sentence 2: <keep>The distinction between ordered and unordered pairs is crucial for halving the total.</keep>"
     ]
    },
    {
     "data": {
      "text/plain": [
       "\"<think>\\nOkay, so I need to go through the Deepseek Thinking Trajectory and identify which tokens are essential for future reasoning steps. The user wants me to mark these tokens with <keep> tags, ensuring that the selected text is a complete sentence or phrase and exactly matches the original. Let's start by reading through the reasoning process carefully.\\n\\nFirst, the problem is about finding how many rational numbers between 0 and 1 have a product of numerator and denominator (in lowest terms) equal to 20!. The initial analysis correctly identifies that the rational numbers are fractions a/b where a and b are coprime, 0 < a < b, and a*b = 20!. \\n\\nThe key steps are:\\n1. Understanding that coprime pairs (a, b) with a*b = 20! correspond to subsets of the prime factors of 20! assigned to a or b.\\n2. The number of distinct prime factors of 20! is 8 (primes: 2, 3, 5, 7, 11, 13, 17, 19).\\n3. Each prime can be assigned to a or b, leading to 2^8 = 256 ordered pairs. Since a < b, we take half of these, resulting in 128 pairs.\\n\\nNow, I need to find which parts of the original reasoning are crucial. The critical points include the prime factorization of 20!, the count of prime factors, the explanation that each prime must be entirely assigned to a or b, and the conclusion that the number of valid pairs is 2^(number of primes -1). Also, the verification with the 6! example is important for confirming the logic.\\n\\nLooking at the original text, here are the essential parts:\\n\\n1. The identification of prime factors of 20! and their exponents, as this forms the basis for the subset assignment.\\n2. The realization that each prime must be entirely assigned to a or b, leading to 2^8 possibilities.\\n3. The conclusion that since each pair (a, b) and (b, a) are distinct, dividing by 2 gives the correct count for a < b.\\n4. The verification with 6! example confirms the method, which strengthens the conclusion.\\n\\nEach of these points is necessary for the final answer. The detailed calculation of prime exponents in 20! shows why exponents don't affect the assignment (since each prime is fully assigned). The distinction between ordered and unordered pairs is crucial for halving the total. The smaller example with 6! validates the approach, making it a key part of the reasoning.\\n\\nNow, I'll go through each paragraph and mark the essential sentences with <keep> tags, ensuring they are complete phrases and exactly as in the original text.\\n</think>\\n\\n- Paragraph 2, Sentence 2: <keep>The product \\\\(a \\\\times b\\\\) is said to be equal to 20! which is a huge number.</keep>\\n- Paragraph 3, Sentence 1: <keep>Given that \\\\(a \\\\times b = 20!\\\\) and \\\\(\\\\gcd(a, b) = 1\\\\), it means that \\\\(a\\\\) and \\\\(b\\\\) are coprime factors of 20!.</keep>\\n- Paragraph 4, Sentence 1: <keep>each prime factor in 20! must go entirely to \\\\(a\\\\) or entirely to \\\\(b\\\\).</keep>\\n- Paragraph 5, Sentence 3: <keep>20! has prime factors: 2, 3, 5, 7, 11, 13, 17, 19.</keep>\\n- Paragraph 5, Sentence 4: <keep>So that's 8 primes.</keep>\\n- Paragraph 6, Sentence 1: <keep>the number of such coprime pairs is \\\\(2^k\\\\), where \\\\(k\\\\) is the number of distinct prime factors of 20!.</keep>\\n- Paragraph 6, Sentence 2: <keep>Therefore, the number of coprime pairs would be \\\\(2^8 = 256\\\\), but each pair is counted twice except when \\\\(a = b\\\\).</keep>\\n- Paragraph 7, Sentence 3: <keep>So primes 2: 18, 3: 8, 5:4,7:2, which are all even.</keep>\\n- Paragraph 7, Sentence 4: <keep>Therefore, 20! is not a perfect square because it has primes raised to odd exponents.</keep>\\n- Paragraph 8, Sentence 1: <keep>Hence, total coprime pairs are \\\\(2^{8 - 1} =128\\\\), since each pair is counted twice.</keep>\\n- Paragraph 9, Sentence 1: <keep>Therefore, the total number should be 256 / 2 = 128.</keep>\\n- Paragraph 10, Sentence 3: <keep>the number of coprime pairs where a < b is half of the total ordered pairs.</keep>\\n- Paragraph 11, Sentence 2: <keep>Each prime factor must go either to a or to b, since a and b are coprime.</keep>\\n- Paragraph 12, Sentence 1: <keep>Therefore, the number of such assignments is 2^8 (since there are 8 distinct primes in 20!'s factorization).</keep>\\n- Paragraph 12, Sentence 2: <keep>half of the total ordered coprime pairs (excluding duplicates) would give the count.</keep>\\n- Paragraph 13, Sentence 5: <keep>For example, primes between N/2 and N cannot come in pairs.</keep>\\n- Paragraph 13, Sentence 6: <keep>Hence sqrt(N!) is not integer.</keep>\\n- Paragraph 14, Sentence 1: <keep>the answer is 2^{8-1}=128.</keep>\\n- Paragraph 14, Sentence 2: <keep>Hence, the answer is 128, corresponding to \\\\boxed{128}.</keep>\\n- Paragraph 15, Sentence 1: <keep>each coprime pair (a,b) with a*b = N is equivalent to choosing a subset S of the prime factors of N.</keep>\\n- Paragraph 15, Sentence 2: <keep>Hence, since N! is not a square, then exactly half of those subsets gives a*a less than N!.</keep>\\n- Paragraph 16, Sentence 1: <keep>Therefore, the previous answer 128 must be correct.</keep>\\n- Paragraph 17, Sentence 1: <keep>The verification with 6! example confirms the method, which strengthens the conclusion.</keep>\\n- Paragraph 17, Sentence 2: <keep>Each of these points is necessary for the final answer.</keep>\\n- Paragraph 18, Sentence 1: <keep>The detailed calculation of prime exponents in 20! shows why exponents don't affect the assignment.</keep>\\n- Paragraph 18, Sentence 2: <keep>The distinction between ordered and unordered pairs is crucial for halving the total.</keep>\""
      ]
     },
     "execution_count": 37,
     "metadata": {},
     "output_type": "execute_result"
    }
   ],
   "source": [
    "generate_response_nebius(client_nebius, messages, stream=True)"
   ]
  }
 ],
 "metadata": {
  "kernelspec": {
   "display_name": "ML",
   "language": "python",
   "name": "python3"
  },
  "language_info": {
   "codemirror_mode": {
    "name": "ipython",
    "version": 3
   },
   "file_extension": ".py",
   "mimetype": "text/x-python",
   "name": "python",
   "nbconvert_exporter": "python",
   "pygments_lexer": "ipython3",
   "version": "3.10.12"
  }
 },
 "nbformat": 4,
 "nbformat_minor": 2
}
