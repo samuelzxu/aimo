{
 "cells": [
  {
   "cell_type": "code",
   "execution_count": 3,
   "metadata": {},
   "outputs": [],
   "source": [
    "import polars as pl\n",
    "\n",
    "val_amc = pl.read_parquet('hf://datasets/AI-MO/aimo-validation-amc/data/train-00000-of-00001.parquet')\n",
    "val_aime = pl.read_parquet('hf://datasets/AI-MO/aimo-validation-aime/data/train-00000-of-00001.parquet')\n",
    "val_lv4 = pl.read_parquet('hf://datasets/AI-MO/aimo-validation-math-level-4/data/train-00000-of-00001.parquet')\n",
    "val_lv5= pl.read_parquet('hf://datasets/AI-MO/aimo-validation-math-level-5/data/train-00000-of-00001.parquet')\n",
    "\n",
    "# Write to disk as parquets\n",
    "val_amc.write_parquet('aimo-validation-amc.parquet')\n",
    "val_aime.write_parquet('aimo-validation-aime.parquet')\n",
    "val_lv4.write_parquet('aimo-validation-math-level-4.parquet')\n",
    "val_lv5.write_parquet('aimo-validation-math-level-5.parquet')"
   ]
  },
  {
   "cell_type": "code",
   "execution_count": null,
   "metadata": {},
   "outputs": [],
   "source": []
  }
 ],
 "metadata": {
  "kernelspec": {
   "display_name": "aimo",
   "language": "python",
   "name": "python3"
  },
  "language_info": {
   "codemirror_mode": {
    "name": "ipython",
    "version": 3
   },
   "file_extension": ".py",
   "mimetype": "text/x-python",
   "name": "python",
   "nbconvert_exporter": "python",
   "pygments_lexer": "ipython3",
   "version": "3.10.14"
  }
 },
 "nbformat": 4,
 "nbformat_minor": 2
}
