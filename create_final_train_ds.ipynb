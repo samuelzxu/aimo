{
 "cells": [
  {
   "cell_type": "code",
   "execution_count": 1,
   "metadata": {},
   "outputs": [],
   "source": [
    "import psycopg2\n",
    "import pandas as pd\n",
    "import os\n",
    "from dotenv import load_dotenv\n",
    "\n",
    "load_dotenv()\n",
    "\n",
    "pg_str = os.getenv('PG_STR')\n",
    "\n",
    "conn = psycopg2.connect(pg_str)\n",
    "\n",
    "with conn.cursor() as cur:\n",
    "    cur.execute(\"SELECT * from llm_evals where run_name='DeepSeek-R1-Distill-Qwen-14B-AWQ-5origprompt-H100-16384-t0.5'\")\n",
    "    rows = cur.fetchall()\n",
    "    cols = [desc[0] for desc in cur.description]\n",
    "\n",
    "df = pd.DataFrame(rows, columns=cols)\n"
   ]
  },
  {
   "cell_type": "code",
   "execution_count": 2,
   "metadata": {},
   "outputs": [
    {
     "data": {
      "text/plain": [
       "932"
      ]
     },
     "execution_count": 2,
     "metadata": {},
     "output_type": "execute_result"
    }
   ],
   "source": [
    "len(df)"
   ]
  }
 ],
 "metadata": {
  "kernelspec": {
   "display_name": "ML",
   "language": "python",
   "name": "python3"
  },
  "language_info": {
   "codemirror_mode": {
    "name": "ipython",
    "version": 3
   },
   "file_extension": ".py",
   "mimetype": "text/x-python",
   "name": "python",
   "nbconvert_exporter": "python",
   "pygments_lexer": "ipython3",
   "version": "3.10.12"
  }
 },
 "nbformat": 4,
 "nbformat_minor": 2
}
