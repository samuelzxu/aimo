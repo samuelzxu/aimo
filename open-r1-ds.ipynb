{
 "cells": [
  {
   "cell_type": "code",
   "execution_count": 2,
   "metadata": {},
   "outputs": [],
   "source": [
    "import polars as pl\n",
    "\n",
    "# Login using e.g. `huggingface-cli login` to access this dataset\n",
    "df = pl.read_parquet('hf://datasets/open-r1/OpenR1-Math-220k/extended/train-*.parquet')"
   ]
  },
  {
   "cell_type": "code",
   "execution_count": 3,
   "metadata": {},
   "outputs": [],
   "source": [
    "open_r1_df = df.to_pandas()"
   ]
  },
  {
   "cell_type": "code",
   "execution_count": 17,
   "metadata": {},
   "outputs": [],
   "source": [
    "import re\n",
    "def extract_boxed_text(text):\n",
    "    # Return the last occurrence of \"boxed\" in the text\n",
    "    texts = re.findall(r'boxed\\{(\\d+)\\}', text)\n",
    "    final = texts[-1] if len(texts) > 0 else None\n",
    "    if final and final.isdigit() and int(final) <= 1000 and int(final) >= 0:\n",
    "        return int(final)\n",
    "    return None\n",
    "\n",
    "\n",
    "def get_has_valid_answer(generations):\n",
    "    for generation in generations:\n",
    "        if len(generation) > 15872 or len(generation) < 500:\n",
    "            continue\n",
    "        ans = extract_boxed_text(generation)\n",
    "        if ans is not None:\n",
    "            return True\n",
    "    return False\n",
    "\n",
    "def get_has_valid_answer_index(generations):\n",
    "    for i, generation in enumerate(generations):\n",
    "        if len(generation) > 15872 or len(generation) < 500:\n",
    "            continue\n",
    "        ans = extract_boxed_text(generation)\n",
    "        if ans is not None:\n",
    "            return i\n",
    "    return -1\n",
    "\n",
    "mask = open_r1_df['generations'].apply(lambda x: get_has_valid_answer(x))"
   ]
  },
  {
   "cell_type": "code",
   "execution_count": 18,
   "metadata": {},
   "outputs": [
    {
     "data": {
      "text/plain": [
       "29833"
      ]
     },
     "execution_count": 18,
     "metadata": {},
     "output_type": "execute_result"
    }
   ],
   "source": [
    "sum(mask)"
   ]
  },
  {
   "cell_type": "code",
   "execution_count": 19,
   "metadata": {},
   "outputs": [],
   "source": [
    "open_r1_df = open_r1_df[mask]"
   ]
  },
  {
   "cell_type": "code",
   "execution_count": 20,
   "metadata": {},
   "outputs": [
    {
     "data": {
      "text/plain": [
       "Index(['problem', 'solution', 'answer', 'problem_type', 'question_type',\n",
       "       'source', 'uuid', 'is_reasoning_complete', 'generations',\n",
       "       'correctness_math_verify', 'correctness_llama', 'finish_reasons',\n",
       "       'correctness_count', 'messages'],\n",
       "      dtype='object')"
      ]
     },
     "execution_count": 20,
     "metadata": {},
     "output_type": "execute_result"
    }
   ],
   "source": [
    "# new_columns \"reasoning\", \"problem\", \"id\"\n",
    "\n",
    "open_r1_df.columns"
   ]
  },
  {
   "cell_type": "code",
   "execution_count": 27,
   "metadata": {},
   "outputs": [],
   "source": [
    "corr_mask = open_r1_df['correctness_math_verify'].apply(lambda x: sum(x) > 0)\n",
    "open_r1_df = open_r1_df[corr_mask]"
   ]
  },
  {
   "cell_type": "code",
   "execution_count": 41,
   "metadata": {},
   "outputs": [],
   "source": [
    "import numpy as np\n",
    "open_r1_df['reasoning'] = open_r1_df.apply(lambda x: x['generations'][np.where(x['correctness_math_verify'])[0][0]], axis=1)\n",
    "open_r1_df['id'] = open_r1_df.apply(lambda x: '--'.join([x['uuid'],x['problem_type']+'-'+x['source']]), axis=1)"
   ]
  },
  {
   "cell_type": "code",
   "execution_count": 42,
   "metadata": {},
   "outputs": [],
   "source": [
    "open_r1_df.drop(columns=[ 'solution', 'answer', 'problem_type', 'question_type',\n",
    "       'source', 'uuid', 'is_reasoning_complete', 'generations',\n",
    "       'correctness_math_verify', 'correctness_llama', 'finish_reasons',\n",
    "       'correctness_count', 'messages'], inplace=True)"
   ]
  },
  {
   "cell_type": "code",
   "execution_count": 43,
   "metadata": {},
   "outputs": [],
   "source": [
    "open_r1_df.to_csv('open_r1_traces.csv', index=False)"
   ]
  },
  {
   "cell_type": "code",
   "execution_count": null,
   "metadata": {},
   "outputs": [],
   "source": []
  }
 ],
 "metadata": {
  "kernelspec": {
   "display_name": "ML",
   "language": "python",
   "name": "python3"
  },
  "language_info": {
   "codemirror_mode": {
    "name": "ipython",
    "version": 3
   },
   "file_extension": ".py",
   "mimetype": "text/x-python",
   "name": "python",
   "nbconvert_exporter": "python",
   "pygments_lexer": "ipython3",
   "version": "3.10.12"
  }
 },
 "nbformat": 4,
 "nbformat_minor": 2
}
