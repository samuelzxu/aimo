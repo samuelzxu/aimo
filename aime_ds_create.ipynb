{
 "cells": [
  {
   "cell_type": "code",
   "execution_count": 44,
   "metadata": {},
   "outputs": [],
   "source": [
    "# Download data from the llm_evals table at this psql link\n",
    "import psycopg2\n",
    "from dotenv import load_dotenv\n",
    "import os\n",
    "\n",
    "load_dotenv()\n",
    "conn_str = os.getenv('PG_STR')\n"
   ]
  },
  {
   "cell_type": "code",
   "execution_count": 45,
   "metadata": {},
   "outputs": [],
   "source": [
    "\n",
    "conn = psycopg2.connect(conn_str)\n",
    "\n",
    "cursor = conn.cursor()\n",
    "\n",
    "cursor.execute(\"SELECT * FROM llm_evals where run_name = 'DeepSeek-R1-Distill-Qwen-14B-AWQ-5origprompt-H100-16384-t0.5' or run_name = 'Qwen2.5-R1-Distill-GRPO-h-awq-t0.6-16ctx-16seq-run1'\")\n",
    "\n",
    "results = cursor.fetchall()\n"
   ]
  },
  {
   "cell_type": "code",
   "execution_count": 46,
   "metadata": {},
   "outputs": [],
   "source": [
    "conn.close()"
   ]
  },
  {
   "cell_type": "markdown",
   "metadata": {},
   "source": [
    "# Get omni math"
   ]
  },
  {
   "cell_type": "code",
   "execution_count": 47,
   "metadata": {},
   "outputs": [],
   "source": [
    "import pandas as pd\n",
    "\n",
    "omni = pd.read_json(\"hf://datasets/KbsdJames/Omni-MATH/test.jsonl\", lines=True)\n",
    "# Add p_id\n",
    "omni[\"p_id\"] = omni.index.astype(str)\n",
    "omni[\"p_id\"] = omni.apply(lambda row: f\"{row['p_id']}_{row['source']}_(omnimath)\", axis=1)"
   ]
  },
  {
   "cell_type": "code",
   "execution_count": 48,
   "metadata": {},
   "outputs": [],
   "source": [
    "omni = omni[omni['answer'].apply(lambda x: x.isdigit())]\n",
    "omni_valid_ans_ids = omni['p_id'].unique()\n",
    "omni_id_to_ans = dict(zip(omni['p_id'], omni['answer']))"
   ]
  },
  {
   "cell_type": "markdown",
   "metadata": {},
   "source": [
    "# Parse out the eval'd DF"
   ]
  },
  {
   "cell_type": "code",
   "execution_count": 49,
   "metadata": {},
   "outputs": [],
   "source": [
    "columns = [i[0] for i in cursor.description]\n",
    "\n",
    "df = pd.DataFrame(results, columns=columns)\n",
    "\n",
    "for row in df.itertuples():\n",
    "    if row.p_id in omni_valid_ans_ids:\n",
    "        df.at[row.Index, \"answer\"] = omni_id_to_ans[row.p_id]"
   ]
  },
  {
   "cell_type": "code",
   "execution_count": 50,
   "metadata": {},
   "outputs": [
    {
     "name": "stdout",
     "output_type": "stream",
     "text": [
      "Before dropping duplicates, len(df) = 2843\n",
      "AFter dropping duplicates, len(df) = 2825\n",
      "Before filtering out non-integer problems: 2825\n",
      "After filtering out non-integer problems + too easy ones: 1372\n"
     ]
    }
   ],
   "source": [
    "from ast import literal_eval\n",
    "def my_func(x):\n",
    "    x = literal_eval(x)\n",
    "    if x[0][1][\"role\"] != \"user\":\n",
    "        raise TypeError()\n",
    "    return x[0][1][\"content\"]\n",
    "\n",
    "\n",
    "df[\"problem\"] = df[\"reasoning\"].apply(my_func)\n",
    "df[\"solution\"] = df[\"label\"].apply(lambda x: f\"\\\\boxed{{{int(x)}}}\")\n",
    "\n",
    "# Drop the mod 1000 suffix from all aime run questions\n",
    "suffix = \"If the final answer is a number larger than 1000, take modulo 1000. \"\n",
    "df[\"problem\"] = df[\"problem\"].apply(lambda x: x[:-len(suffix)] if x.endswith(suffix) else x)\n",
    "assert sum(df[\"problem\"].apply(lambda text: text[-13:] == \"modulo 1000. \")) == 0\n",
    "\n",
    "# Drop duplicateds for problem and p_id. Keep the last occurence.\n",
    "print(f\"Before dropping duplicates, len(df) = {len(df)}\")\n",
    "df.drop_duplicates(subset=['problem'],inplace=True,keep='last')\n",
    "df.drop_duplicates(subset=['p_id'],inplace=True,keep='last')\n",
    "print(f\"AFter dropping duplicates, len(df) = {len(df)}\")\n",
    "\n",
    "# Drop duplicateds for problem and p_id. Keep the last occurence. Create a new column reasoning_parsed\n",
    "df['reasoning_parsed'] = df['reasoning'].apply(literal_eval)\n",
    "\n",
    "print(\"Before filtering out non-integer problems:\",len(df))\n",
    "filter_results = pd.read_csv(\"problem_filter_results.csv\")\n",
    "valid_ids = filter_results[filter_results[\"has_integer_solution\"] == True][\"p_id\"].unique()\n",
    "valid_ids = set(valid_ids)\n",
    "\n",
    "valid_ones_n_zeros = pd.read_csv(\"ones_n_zeros_annot.csv\")\n",
    "valid_onz_ids = set(valid_ones_n_zeros[valid_ones_n_zeros[\"valid\"] == 'y'][\"p_id\"].unique())\n",
    "\n",
    "valid_ids = valid_ids.union(valid_onz_ids)\n",
    "df = df[df[\"p_id\"].isin(valid_ids)]\n",
    "print(\"After filtering out non-integer problems + too easy ones:\",len(df))"
   ]
  },
  {
   "cell_type": "code",
   "execution_count": 51,
   "metadata": {},
   "outputs": [],
   "source": [
    "# Drop rows where label is 0 or 1 - not doing anymore since we've filtered\n",
    "# df[df['label'].isin([0,1])][['p_id','uuid']].to_csv('ones_n_zeros.csv')\n",
    "\n",
    "# df = df[~df['label'].isin([0,1])]"
   ]
  },
  {
   "cell_type": "code",
   "execution_count": 52,
   "metadata": {},
   "outputs": [],
   "source": [
    "from datetime import datetime\n",
    "import re\n",
    "\n",
    "def extract_boxed_text(text):\n",
    "    # Return the last occurrence of \"boxed\" in the text\n",
    "    texts = re.findall(r'boxed\\{(\\d+)\\}', text)\n",
    "    final = texts[-1] if len(texts) > 0 else None\n",
    "    if not final:\n",
    "        texts = re.findall(r'(\\d+)', text)\n",
    "        if len(texts) > 0:\n",
    "            final = texts[-1]\n",
    "    return int(final) if final and final.isdigit() and len(final) < 100 else None\n",
    "\n",
    "df[\"extracted_answers\"] = df[\"extracted_answers\"].apply(lambda answers: [answer % 1000 for answer in answers])\n",
    "df[\"re_extracted_answers\"] = df[\"reasoning_parsed\"].apply(lambda x: [extract_boxed_text(i[-1][\"content\"]) for i in x if i[-1][\"role\"] == \"assistant\"])\n",
    "\n",
    "# df = df[(df['runtime_s']>100) | (df[\"run_name\"].str.contains(\"5origprompt\"))]\n",
    "\n",
    "df = df[df['p_id'].isin(omni_valid_ans_ids) | (df[\"run_name\"].str.contains(\"5origprompt\"))]\n",
    "\n",
    "df[\"prop_correct_orig\"] = df.apply(lambda x: x.extracted_answers.count(x.label)/(len(x.extracted_answers) or 1), axis=1)\n",
    "df[\"prop_correct_uniform\"] = df.apply(lambda x: x.re_extracted_answers.count(x.label)/(len(x.re_extracted_answers) or 1), axis=1)"
   ]
  },
  {
   "cell_type": "code",
   "execution_count": 53,
   "metadata": {},
   "outputs": [
    {
     "name": "stdout",
     "output_type": "stream",
     "text": [
      "rows w/ correct answer and lenless than 100s for each extraction method\n"
     ]
    },
    {
     "data": {
      "text/plain": [
       "(142, 83)"
      ]
     },
     "execution_count": 53,
     "metadata": {},
     "output_type": "execute_result"
    }
   ],
   "source": [
    "print(\"rows w/ correct answer and lenless than 100s for each extraction method\")\n",
    "sum(df.apply(lambda x: x.label in x.re_extracted_answers and x.runtime_s < 100, axis=1)), sum(df.apply(lambda x: x.label in x.extracted_answers and x.runtime_s < 100, axis=1))"
   ]
  },
  {
   "cell_type": "code",
   "execution_count": 54,
   "metadata": {},
   "outputs": [
    {
     "name": "stdout",
     "output_type": "stream",
     "text": [
      "rows w/ correct answer and lenless than 100s for each extraction method, specific to original dataset\n"
     ]
    },
    {
     "data": {
      "text/plain": [
       "(96, 37)"
      ]
     },
     "execution_count": 54,
     "metadata": {},
     "output_type": "execute_result"
    }
   ],
   "source": [
    "print(\"rows w/ correct answer and lenless than 100s for each extraction method, specific to original dataset\")\n",
    "sum(df.apply(lambda x: x.label in x.re_extracted_answers and not (\"5origprompt\" in x.run_name) and x.runtime_s < 100, axis=1)), sum(df.apply(lambda x: x.label in x.extracted_answers and not (\"5origprompt\" in x.run_name) and x.runtime_s < 100, axis=1))"
   ]
  },
  {
   "cell_type": "markdown",
   "metadata": {},
   "source": [
    "# Create levels of difficulty"
   ]
  },
  {
   "cell_type": "code",
   "execution_count": 55,
   "metadata": {},
   "outputs": [
    {
     "data": {
      "text/plain": [
       "<Axes: >"
      ]
     },
     "execution_count": 55,
     "metadata": {},
     "output_type": "execute_result"
    },
    {
     "data": {
      "image/png": "[encoded data removed]",
      "text/plain": [
       "<Figure size 640x480 with 1 Axes>"
      ]
     },
     "metadata": {},
     "output_type": "display_data"
    }
   ],
   "source": [
    "df[df['run_name'].str.contains(\"5origprompt\")]['prop_correct_uniform'].hist(bins=30)\n",
    "df[df['run_name'].str.contains(\"5origprompt\")]['prop_correct_orig'].hist(bins=30, )"
   ]
  },
  {
   "cell_type": "code",
   "execution_count": 56,
   "metadata": {},
   "outputs": [
    {
     "data": {
      "text/plain": [
       "<Axes: >"
      ]
     },
     "execution_count": 56,
     "metadata": {},
     "output_type": "execute_result"
    },
    {
     "data": {
      "image/png": "[encoded data removed]",
      "text/plain": [
       "<Figure size 640x480 with 1 Axes>"
      ]
     },
     "metadata": {},
     "output_type": "display_data"
    }
   ],
   "source": [
    "df[~df['run_name'].str.contains(\"5origprompt\")]['prop_correct_uniform'].hist(bins=30)\n",
    "df[~df['run_name'].str.contains(\"5origprompt\")]['prop_correct_orig'].hist(bins=30, )"
   ]
  },
  {
   "cell_type": "code",
   "execution_count": 57,
   "metadata": {},
   "outputs": [],
   "source": [
    "df[\"prop_correct\"] = df[\"prop_correct_uniform\"]"
   ]
  },
  {
   "cell_type": "code",
   "execution_count": 58,
   "metadata": {},
   "outputs": [],
   "source": [
    "df_easy = df[df[\"prop_correct\"].apply(lambda x: x < 0.8 and x>0.6)]\n",
    "\n",
    "df_medium = df[df[\"prop_correct\"].apply(lambda x: x <= 0.6 and x>0.35)]\n",
    "df_hard = df[df[\"prop_correct\"].apply(lambda x: x <= 0.35 and x>0.1)]\n",
    "df_damn = df[df[\"prop_correct\"].apply(lambda x: x <=0.1)]"
   ]
  },
  {
   "cell_type": "code",
   "execution_count": 59,
   "metadata": {},
   "outputs": [
    {
     "data": {
      "text/plain": [
       "(114, 289, 225, 482)"
      ]
     },
     "execution_count": 59,
     "metadata": {},
     "output_type": "execute_result"
    }
   ],
   "source": [
    "len(df_easy), len(df_medium), len(df_hard), len(df_damn)"
   ]
  },
  {
   "cell_type": "code",
   "execution_count": 60,
   "metadata": {},
   "outputs": [
    {
     "data": {
      "text/plain": [
       "<Axes: >"
      ]
     },
     "execution_count": 60,
     "metadata": {},
     "output_type": "execute_result"
    },
    {
     "data": {
      "image/png": "[encoded data removed]",
      "text/plain": [
       "<Figure size 640x480 with 1 Axes>"
      ]
     },
     "metadata": {},
     "output_type": "display_data"
    }
   ],
   "source": [
    "df_hard['runtime_s'].hist(bins=20)"
   ]
  },
  {
   "cell_type": "code",
   "execution_count": 61,
   "metadata": {},
   "outputs": [
    {
     "data": {
      "text/plain": [
       "run_name\n",
       "DeepSeek-R1-Distill-Qwen-14B-AWQ-5origprompt-H100-16384-t0.5    59\n",
       "Qwen2.5-R1-Distill-GRPO-h-awq-t0.6-16ctx-16seq-run1             10\n",
       "Name: count, dtype: int64"
      ]
     },
     "execution_count": 61,
     "metadata": {},
     "output_type": "execute_result"
    }
   ],
   "source": [
    "df_hard[(df_hard['runtime_s'] < 240) * (df_hard['runtime_s'] > 210)]['run_name'].value_counts()"
   ]
  },
  {
   "cell_type": "code",
   "execution_count": 62,
   "metadata": {},
   "outputs": [
    {
     "data": {
      "text/plain": [
       "<Axes: >"
      ]
     },
     "execution_count": 62,
     "metadata": {},
     "output_type": "execute_result"
    },
    {
     "data": {
      "image/png": "[encoded data removed]",
      "text/plain": [
       "<Figure size 640x480 with 1 Axes>"
      ]
     },
     "metadata": {},
     "output_type": "display_data"
    }
   ],
   "source": [
    "df_damn['runtime_s'].hist(bins=100)"
   ]
  },
  {
   "cell_type": "code",
   "execution_count": 63,
   "metadata": {},
   "outputs": [
    {
     "data": {
      "text/plain": [
       "<Axes: >"
      ]
     },
     "execution_count": 63,
     "metadata": {},
     "output_type": "execute_result"
    },
    {
     "data": {
      "image/png": "[encoded data removed]",
      "text/plain": [
       "<Figure size 640x480 with 1 Axes>"
      ]
     },
     "metadata": {},
     "output_type": "display_data"
    }
   ],
   "source": [
    "df_damn['extracted_answers'].apply(len).hist(bins=20)"
   ]
  },
  {
   "cell_type": "code",
   "execution_count": 64,
   "metadata": {},
   "outputs": [],
   "source": [
    "simple_and_empty_indices = (df_damn['extracted_answers'].apply(len) == 0) * (df_damn['runtime_s'] < 100)\n",
    "\n",
    "df_damn = df_damn[~simple_and_empty_indices]\n",
    "df_hell = df_damn[df_damn['extracted_answers'].apply(len) == 0]"
   ]
  },
  {
   "cell_type": "code",
   "execution_count": 79,
   "metadata": {},
   "outputs": [],
   "source": [
    "# Merge all difficulty levels into one DataFrame\n",
    "df_merged = pd.concat([df_easy, df_medium, df_hard, df_damn])\n"
   ]
  },
  {
   "cell_type": "markdown",
   "metadata": {},
   "source": [
    "# Create splits"
   ]
  },
  {
   "cell_type": "code",
   "execution_count": 66,
   "metadata": {},
   "outputs": [
    {
     "name": "stdout",
     "output_type": "stream",
     "text": [
      "Easy dataset sizes - Total: 114, Train: 103, Val: 11\n",
      "Medium dataset sizes - Total: 289, Train: 261, Val: 28\n",
      "Hard dataset sizes - Total: 225, Train: 203, Val: 22\n",
      "Damn dataset sizes - Total: 431, Train: 388, Val: 43\n",
      "Hell dataset sizes - Total: 54, Train: 49, Val: 5\n"
     ]
    }
   ],
   "source": [
    "import numpy as np\n",
    "# Create val, train splits for each df\n",
    "# val percentage = 5%\n",
    "\n",
    "# Set random seed for reproducibility\n",
    "np.random.seed(42)\n",
    "\n",
    "# Function to split DataFrame into train and val sets\n",
    "def train_val_split(df, val_percentage=0.1):\n",
    "    # Shuffle indices\n",
    "    indices = np.random.permutation(len(df))\n",
    "    val_size = int(len(df) * val_percentage)\n",
    "    \n",
    "    # Split indices\n",
    "    val_indices = indices[:val_size]\n",
    "    train_indices = indices[val_size:]\n",
    "    \n",
    "    # Create train and val DataFrames\n",
    "    train_df = df.iloc[train_indices]\n",
    "    val_df = df.iloc[val_indices]\n",
    "    \n",
    "    return train_df, val_df\n",
    "\n",
    "# Split each difficulty level\n",
    "df_easy_train, df_easy_val = train_val_split(df_easy)\n",
    "df_medium_train, df_medium_val = train_val_split(df_medium)\n",
    "df_hard_train, df_hard_val = train_val_split(df_hard)\n",
    "df_damn_train, df_damn_val = train_val_split(df_damn)\n",
    "df_hell_train, df_hell_val = train_val_split(df_hell)\n",
    "\n",
    "print(f\"Easy dataset sizes - Total: {len(df_easy)}, Train: {len(df_easy_train)}, Val: {len(df_easy_val)}\")\n",
    "print(f\"Medium dataset sizes - Total: {len(df_medium)}, Train: {len(df_medium_train)}, Val: {len(df_medium_val)}\")\n",
    "print(f\"Hard dataset sizes - Total: {len(df_hard)}, Train: {len(df_hard_train)}, Val: {len(df_hard_val)}\")\n",
    "print(f\"Damn dataset sizes - Total: {len(df_damn)}, Train: {len(df_damn_train)}, Val: {len(df_damn_val)}\")\n",
    "print(f\"Hell dataset sizes - Total: {len(df_hell)}, Train: {len(df_hell_train)}, Val: {len(df_hell_val)}\")"
   ]
  },
  {
   "cell_type": "code",
   "execution_count": 67,
   "metadata": {},
   "outputs": [],
   "source": [
    "# Write val datasets to file for examination\n",
    "# val_sets\n",
    "# |\n",
    "# `--> {difficulty}\n",
    "#       |\n",
    "#       `--> { p_id }.txt\n",
    "\n",
    "import os\n",
    "\n",
    "# Create directories for each difficulty level\n",
    "difficulties = ['easy', 'medium', 'hard', 'damn', 'hell']\n",
    "val_dfs = [df_easy_val, df_medium_val, df_hard_val, df_damn_val, df_hell_val]\n",
    "\n",
    "# Create base directory for validation sets\n",
    "base_dir = 'val_sets'\n",
    "os.makedirs(base_dir, exist_ok=True)\n",
    "\n",
    "# Write validation sets for each difficulty\n",
    "for difficulty, val_df in zip(difficulties, val_dfs):\n",
    "    # Create directory for this difficulty\n",
    "    diff_dir = os.path.join(base_dir, difficulty)\n",
    "    os.makedirs(diff_dir, exist_ok=True)\n",
    "    \n",
    "    # Write each problem to a separate file\n",
    "    for _, row in val_df.iterrows():\n",
    "        problem_file = os.path.join(diff_dir, f\"{row['p_id']}.txt\")\n",
    "        with open(problem_file, 'w') as f:\n",
    "            f.write(f\"Problem ID: {row['p_id']}\\n\")\n",
    "            f.write(f\"Question: {row['problem']}\\n\")"
   ]
  },
  {
   "cell_type": "code",
   "execution_count": null,
   "metadata": {},
   "outputs": [],
   "source": [
    "df_"
   ]
  },
  {
   "cell_type": "code",
   "execution_count": 68,
   "metadata": {},
   "outputs": [
    {
     "name": "stdout",
     "output_type": "stream",
     "text": [
      "Omni Answer: 1000, Dset Answer: 0.0\n",
      "Omni Answer: 334000, Dset Answer: 0.0\n",
      "Omni Answer: 10000, Dset Answer: 0.0\n",
      "Omni Answer: 1000, Dset Answer: 0.0\n",
      "Omni Answer: 1000, Dset Answer: 0.0\n",
      "Omni Answer: 3920000, Dset Answer: 0.0\n"
     ]
    }
   ],
   "source": [
    "import math\n",
    "\n",
    "for i, row in df_merged.iterrows():\n",
    "    if str(row['answer']).isdigit() and int(row['answer']) != int(row['label']):\n",
    "        print(f\"Omni Answer: {row['answer']}, Dset Answer: {row['label']}\")"
   ]
  },
  {
   "cell_type": "code",
   "execution_count": null,
   "metadata": {},
   "outputs": [],
   "source": [
    "df_merged.to_csv(\"math_full.csv\")\n"
   ]
  },
  {
   "cell_type": "code",
   "execution_count": 74,
   "metadata": {},
   "outputs": [
    {
     "data": {
      "text/plain": [
       "Index(['uuid', 'exec_time', 'runtime_s', 'p_id', 'run_name', 'prediction',\n",
       "       'label', 'extracted_answers', 'reasoning', 'answer', 'problem',\n",
       "       'solution', 'reasoning_parsed', 're_extracted_answers',\n",
       "       'prop_correct_orig', 'prop_correct_uniform', 'prop_correct'],\n",
       "      dtype='object')"
      ]
     },
     "execution_count": 74,
     "metadata": {},
     "output_type": "execute_result"
    }
   ],
   "source": [
    "df_merged.columns"
   ]
  },
  {
   "cell_type": "code",
   "execution_count": 123,
   "metadata": {},
   "outputs": [
    {
     "name": "stderr",
     "output_type": "stream",
     "text": [
      "1059it [00:00, 34792.10it/s]\n"
     ]
    }
   ],
   "source": [
    "from tqdm import tqdm\n",
    "\n",
    "new_df_dict = {\"id\": [], \"reasoning\": [], \"problem\": []}\n",
    "for i, row in tqdm(df_merged.iterrows()):\n",
    "    p_id = row['p_id']\n",
    "    for j, convo in enumerate(row['reasoning_parsed']):\n",
    "        reasoning = convo[-1][\"content\"]\n",
    "        problem = convo[1][\"content\"]\n",
    "        new_df_dict[\"reasoning\"].append(reasoning)\n",
    "        new_df_dict[\"id\"].append(f\"{j}--{p_id}\")\n",
    "        new_df_dict[\"problem\"].append(problem)\n",
    "\n",
    "new_df = pd.DataFrame.from_dict(new_df_dict)"
   ]
  },
  {
   "cell_type": "code",
   "execution_count": 124,
   "metadata": {},
   "outputs": [],
   "source": [
    "import pandas as pd\n",
    "import re\n",
    "\n",
    "def remove_surrogate_rows(df, column_name):\n",
    "    # Check for surrogate pairs (U+D800 to U+DFFF)\n",
    "    surrogate_pattern = re.compile(r'[\\uD800-\\uDFFF]')\n",
    "    \n",
    "    # Create mask where False means the row contains surrogate pairs\n",
    "    mask = ~df[column_name].fillna('').astype(str).apply(\n",
    "        lambda x: bool(surrogate_pattern.search(x))\n",
    "    )\n",
    "    \n",
    "    # Return filtered dataframe\n",
    "    return df[mask]\n",
    "\n",
    "# Alternative approach that doesn't use regex\n",
    "def filter_no_surrogates(df, column_name):\n",
    "    def has_no_surrogates(text):\n",
    "        if not isinstance(text, str):\n",
    "            return True\n",
    "        \n",
    "        # Check if any character is in the surrogate range\n",
    "        for char in text:\n",
    "            if 0xD800 <= ord(char) <= 0xDFFF:\n",
    "                return False\n",
    "        return True\n",
    "    \n",
    "    return df[df[column_name].apply(has_no_surrogates)]\n",
    "new_df = remove_surrogate_rows(new_df, \"reasoning\")\n"
   ]
  },
  {
   "cell_type": "code",
   "execution_count": 126,
   "metadata": {},
   "outputs": [],
   "source": [
    "new_df = new_df[new_df[\"reasoning\"].apply(lambda x: \"\\\\boxed{\" in x or len(x) > 12000) ]\n",
    "new_df.to_csv('traces.csv')"
   ]
  },
  {
   "cell_type": "code",
   "execution_count": 130,
   "metadata": {},
   "outputs": [
    {
     "data": {
      "text/plain": [
       "Index(['id', 'reasoning', 'problem'], dtype='object')"
      ]
     },
     "execution_count": 130,
     "metadata": {},
     "output_type": "execute_result"
    }
   ],
   "source": [
    "new_df.columns"
   ]
  },
  {
   "cell_type": "code",
   "execution_count": 128,
   "metadata": {},
   "outputs": [
    {
     "data": {
      "text/plain": [
       "Index(['id', 'reasoning', 'problem'], dtype='object')"
      ]
     },
     "execution_count": 128,
     "metadata": {},
     "output_type": "execute_result"
    }
   ],
   "source": [
    "new_df.columns"
   ]
  },
  {
   "cell_type": "code",
   "execution_count": 36,
   "metadata": {},
   "outputs": [],
   "source": [
    "# We're going to train one pass without eval dsets and with the un-modded answer.\n",
    "\n",
    "# The next pass, we're going to train WITH eval dsets and with the *modded* answer\n",
    "\n",
    "# the first and second pass versions will have respective prefixes 'pass1_' and 'pass2_'\n",
    "\n",
    "# Remove all columns except for problem and label\n",
    "columns_to_remove = ['uuid', 'exec_time', 'runtime_s', 'p_id', 'run_name', 'prediction',\n",
    "       'label', 'extracted_answers', 'reasoning', 'answer', \n",
    "       'reasoning_parsed', 're_extracted_answers', 'prop_correct_orig',\n",
    "       'prop_correct_uniform', 'prop_correct']\n",
    "\n",
    "df_easy_train = df_easy_train.drop(columns=columns_to_remove)\n",
    "df_easy_val = df_easy_val.drop(columns=columns_to_remove)\n",
    "df_easy = df_easy.drop(columns=columns_to_remove)\n",
    "\n",
    "df_medium_train = df_medium_train.drop(columns=columns_to_remove)\n",
    "df_medium_val = df_medium_val.drop(columns=columns_to_remove)\n",
    "df_medium = df_medium.drop(columns=columns_to_remove)\n",
    "\n",
    "df_hard_train = df_hard_train.drop(columns=columns_to_remove)\n",
    "df_hard_val = df_hard_val.drop(columns=columns_to_remove)\n",
    "df_hard = df_hard.drop(columns=columns_to_remove)\n",
    "\n",
    "df_damn_train = df_damn_train.drop(columns=columns_to_remove)\n",
    "df_damn_val = df_damn_val.drop(columns=columns_to_remove)\n",
    "df_damn = df_damn.drop(columns=columns_to_remove)\n",
    "\n",
    "df_hell_train = df_hell_train.drop(columns=columns_to_remove)\n",
    "df_hell_val = df_hell_val.drop(columns=columns_to_remove)\n",
    "df_hell = df_hell.drop(columns=columns_to_remove)"
   ]
  },
  {
   "cell_type": "code",
   "execution_count": 43,
   "metadata": {},
   "outputs": [
    {
     "data": {
      "text/plain": [
       "Index(['problem', 'solution'], dtype='object')"
      ]
     },
     "execution_count": 43,
     "metadata": {},
     "output_type": "execute_result"
    }
   ],
   "source": [
    "df_merged.columns"
   ]
  },
  {
   "cell_type": "code",
   "execution_count": 280,
   "metadata": {},
   "outputs": [
    {
     "data": {
      "application/vnd.jupyter.widget-view+json": {
       "model_id": "adbc32f5e73b4eec9bf6e64f9c579146",
       "version_major": 2,
       "version_minor": 0
      },
      "text/plain": [
       "Creating CSV from Arrow format:   0%|          | 0/1 [00:00<?, ?ba/s]"
      ]
     },
     "metadata": {},
     "output_type": "display_data"
    },
    {
     "data": {
      "application/vnd.jupyter.widget-view+json": {
       "model_id": "c385a4cdc2c8442da0ad49f36b172ed4",
       "version_major": 2,
       "version_minor": 0
      },
      "text/plain": [
       "Uploading the dataset shards:   0%|          | 0/1 [00:00<?, ?it/s]"
      ]
     },
     "metadata": {},
     "output_type": "display_data"
    },
    {
     "data": {
      "application/vnd.jupyter.widget-view+json": {
       "model_id": "52846671c758496ea9435b84b4ea69be",
       "version_major": 2,
       "version_minor": 0
      },
      "text/plain": [
       "Creating parquet from Arrow format:   0%|          | 0/1 [00:00<?, ?ba/s]"
      ]
     },
     "metadata": {},
     "output_type": "display_data"
    },
    {
     "data": {
      "application/vnd.jupyter.widget-view+json": {
       "model_id": "1a211f093d9e443a9e2989bff7ab6aec",
       "version_major": 2,
       "version_minor": 0
      },
      "text/plain": [
       "README.md:   0%|          | 0.00/541 [00:00<?, ?B/s]"
      ]
     },
     "metadata": {},
     "output_type": "display_data"
    },
    {
     "data": {
      "application/vnd.jupyter.widget-view+json": {
       "model_id": "2bb01eae2fa6476da30bfb781e3f2f17",
       "version_major": 2,
       "version_minor": 0
      },
      "text/plain": [
       "Uploading the dataset shards:   0%|          | 0/1 [00:00<?, ?it/s]"
      ]
     },
     "metadata": {},
     "output_type": "display_data"
    },
    {
     "data": {
      "application/vnd.jupyter.widget-view+json": {
       "model_id": "e328675a813f4d61a2e2743ef1a14b8a",
       "version_major": 2,
       "version_minor": 0
      },
      "text/plain": [
       "Creating parquet from Arrow format:   0%|          | 0/1 [00:00<?, ?ba/s]"
      ]
     },
     "metadata": {},
     "output_type": "display_data"
    },
    {
     "data": {
      "application/vnd.jupyter.widget-view+json": {
       "model_id": "b3d6ab16ffbe4ef98d92a3603e5742c0",
       "version_major": 2,
       "version_minor": 0
      },
      "text/plain": [
       "README.md:   0%|          | 0.00/541 [00:00<?, ?B/s]"
      ]
     },
     "metadata": {},
     "output_type": "display_data"
    },
    {
     "data": {
      "application/vnd.jupyter.widget-view+json": {
       "model_id": "ab47e1e9e8cb4257a8d2db4e0f4c83d9",
       "version_major": 2,
       "version_minor": 0
      },
      "text/plain": [
       "Creating CSV from Arrow format:   0%|          | 0/1 [00:00<?, ?ba/s]"
      ]
     },
     "metadata": {},
     "output_type": "display_data"
    },
    {
     "data": {
      "application/vnd.jupyter.widget-view+json": {
       "model_id": "d9a1ef4b86e241a986ecca3c4b32a2b5",
       "version_major": 2,
       "version_minor": 0
      },
      "text/plain": [
       "Uploading the dataset shards:   0%|          | 0/1 [00:00<?, ?it/s]"
      ]
     },
     "metadata": {},
     "output_type": "display_data"
    },
    {
     "data": {
      "application/vnd.jupyter.widget-view+json": {
       "model_id": "6d5d300cbdb44cd693e4a874a7edbdb5",
       "version_major": 2,
       "version_minor": 0
      },
      "text/plain": [
       "Creating parquet from Arrow format:   0%|          | 0/1 [00:00<?, ?ba/s]"
      ]
     },
     "metadata": {},
     "output_type": "display_data"
    },
    {
     "data": {
      "application/vnd.jupyter.widget-view+json": {
       "model_id": "946f7e5f5fc74b448199a7bb49c560a0",
       "version_major": 2,
       "version_minor": 0
      },
      "text/plain": [
       "README.md:   0%|          | 0.00/541 [00:00<?, ?B/s]"
      ]
     },
     "metadata": {},
     "output_type": "display_data"
    },
    {
     "data": {
      "application/vnd.jupyter.widget-view+json": {
       "model_id": "876e918b8155492295b298361f12b796",
       "version_major": 2,
       "version_minor": 0
      },
      "text/plain": [
       "Uploading the dataset shards:   0%|          | 0/1 [00:00<?, ?it/s]"
      ]
     },
     "metadata": {},
     "output_type": "display_data"
    },
    {
     "data": {
      "application/vnd.jupyter.widget-view+json": {
       "model_id": "8ab4de752b3f4b62bdfaa0b3eaea7e78",
       "version_major": 2,
       "version_minor": 0
      },
      "text/plain": [
       "Creating parquet from Arrow format:   0%|          | 0/1 [00:00<?, ?ba/s]"
      ]
     },
     "metadata": {},
     "output_type": "display_data"
    },
    {
     "data": {
      "application/vnd.jupyter.widget-view+json": {
       "model_id": "c228d67883c54e28bdc002264855370c",
       "version_major": 2,
       "version_minor": 0
      },
      "text/plain": [
       "README.md:   0%|          | 0.00/541 [00:00<?, ?B/s]"
      ]
     },
     "metadata": {},
     "output_type": "display_data"
    },
    {
     "data": {
      "application/vnd.jupyter.widget-view+json": {
       "model_id": "270002077d6c45dc9ea606e8ebdc2399",
       "version_major": 2,
       "version_minor": 0
      },
      "text/plain": [
       "Creating CSV from Arrow format:   0%|          | 0/1 [00:00<?, ?ba/s]"
      ]
     },
     "metadata": {},
     "output_type": "display_data"
    },
    {
     "data": {
      "application/vnd.jupyter.widget-view+json": {
       "model_id": "bf66143a3c7c463cb23fc04bac07ca99",
       "version_major": 2,
       "version_minor": 0
      },
      "text/plain": [
       "Uploading the dataset shards:   0%|          | 0/1 [00:00<?, ?it/s]"
      ]
     },
     "metadata": {},
     "output_type": "display_data"
    },
    {
     "data": {
      "application/vnd.jupyter.widget-view+json": {
       "model_id": "fd74c0e503d842418f17b643b7ea6834",
       "version_major": 2,
       "version_minor": 0
      },
      "text/plain": [
       "Creating parquet from Arrow format:   0%|          | 0/1 [00:00<?, ?ba/s]"
      ]
     },
     "metadata": {},
     "output_type": "display_data"
    },
    {
     "data": {
      "application/vnd.jupyter.widget-view+json": {
       "model_id": "f6e91785022543739bd101450abd077f",
       "version_major": 2,
       "version_minor": 0
      },
      "text/plain": [
       "README.md:   0%|          | 0.00/537 [00:00<?, ?B/s]"
      ]
     },
     "metadata": {},
     "output_type": "display_data"
    },
    {
     "data": {
      "application/vnd.jupyter.widget-view+json": {
       "model_id": "4d2ef3f662ea4ebbba4e805d8cfb2deb",
       "version_major": 2,
       "version_minor": 0
      },
      "text/plain": [
       "Uploading the dataset shards:   0%|          | 0/1 [00:00<?, ?it/s]"
      ]
     },
     "metadata": {},
     "output_type": "display_data"
    },
    {
     "data": {
      "application/vnd.jupyter.widget-view+json": {
       "model_id": "fe26451926e9497a98b85221cd4f4536",
       "version_major": 2,
       "version_minor": 0
      },
      "text/plain": [
       "Creating parquet from Arrow format:   0%|          | 0/1 [00:00<?, ?ba/s]"
      ]
     },
     "metadata": {},
     "output_type": "display_data"
    },
    {
     "data": {
      "application/vnd.jupyter.widget-view+json": {
       "model_id": "47f5a110fc6a4625931b9f860f3d11de",
       "version_major": 2,
       "version_minor": 0
      },
      "text/plain": [
       "README.md:   0%|          | 0.00/538 [00:00<?, ?B/s]"
      ]
     },
     "metadata": {},
     "output_type": "display_data"
    },
    {
     "data": {
      "application/vnd.jupyter.widget-view+json": {
       "model_id": "07559a8a8cfc4a8aa5da2ee648fa1524",
       "version_major": 2,
       "version_minor": 0
      },
      "text/plain": [
       "Creating CSV from Arrow format:   0%|          | 0/1 [00:00<?, ?ba/s]"
      ]
     },
     "metadata": {},
     "output_type": "display_data"
    },
    {
     "data": {
      "application/vnd.jupyter.widget-view+json": {
       "model_id": "7e9af19e8e8e4d0e8b1464aa65617543",
       "version_major": 2,
       "version_minor": 0
      },
      "text/plain": [
       "Uploading the dataset shards:   0%|          | 0/1 [00:00<?, ?it/s]"
      ]
     },
     "metadata": {},
     "output_type": "display_data"
    },
    {
     "data": {
      "application/vnd.jupyter.widget-view+json": {
       "model_id": "38dadb905ea84765b67a9ef750e37734",
       "version_major": 2,
       "version_minor": 0
      },
      "text/plain": [
       "Creating parquet from Arrow format:   0%|          | 0/1 [00:00<?, ?ba/s]"
      ]
     },
     "metadata": {},
     "output_type": "display_data"
    },
    {
     "data": {
      "application/vnd.jupyter.widget-view+json": {
       "model_id": "64491a9b8a2042adbeb97874c01f233a",
       "version_major": 2,
       "version_minor": 0
      },
      "text/plain": [
       "README.md:   0%|          | 0.00/542 [00:00<?, ?B/s]"
      ]
     },
     "metadata": {},
     "output_type": "display_data"
    },
    {
     "data": {
      "application/vnd.jupyter.widget-view+json": {
       "model_id": "89ad91933620491a8cfe934facc70937",
       "version_major": 2,
       "version_minor": 0
      },
      "text/plain": [
       "Uploading the dataset shards:   0%|          | 0/1 [00:00<?, ?it/s]"
      ]
     },
     "metadata": {},
     "output_type": "display_data"
    },
    {
     "data": {
      "application/vnd.jupyter.widget-view+json": {
       "model_id": "bb58e7c7d55c44d5a524e7619613efa1",
       "version_major": 2,
       "version_minor": 0
      },
      "text/plain": [
       "Creating parquet from Arrow format:   0%|          | 0/1 [00:00<?, ?ba/s]"
      ]
     },
     "metadata": {},
     "output_type": "display_data"
    },
    {
     "data": {
      "application/vnd.jupyter.widget-view+json": {
       "model_id": "27c51cdb2d734ddbba0de1b1ed79c9cb",
       "version_major": 2,
       "version_minor": 0
      },
      "text/plain": [
       "README.md:   0%|          | 0.00/542 [00:00<?, ?B/s]"
      ]
     },
     "metadata": {},
     "output_type": "display_data"
    },
    {
     "data": {
      "application/vnd.jupyter.widget-view+json": {
       "model_id": "44a98ca5ce5644d4af8faf38cb527487",
       "version_major": 2,
       "version_minor": 0
      },
      "text/plain": [
       "Creating CSV from Arrow format:   0%|          | 0/1 [00:00<?, ?ba/s]"
      ]
     },
     "metadata": {},
     "output_type": "display_data"
    },
    {
     "data": {
      "application/vnd.jupyter.widget-view+json": {
       "model_id": "89756767f16444f8b1f153739fa70fb9",
       "version_major": 2,
       "version_minor": 0
      },
      "text/plain": [
       "Uploading the dataset shards:   0%|          | 0/1 [00:00<?, ?it/s]"
      ]
     },
     "metadata": {},
     "output_type": "display_data"
    },
    {
     "data": {
      "application/vnd.jupyter.widget-view+json": {
       "model_id": "a28d531b6ea04b359731bf4062745234",
       "version_major": 2,
       "version_minor": 0
      },
      "text/plain": [
       "Creating parquet from Arrow format:   0%|          | 0/1 [00:00<?, ?ba/s]"
      ]
     },
     "metadata": {},
     "output_type": "display_data"
    },
    {
     "data": {
      "application/vnd.jupyter.widget-view+json": {
       "model_id": "74e3a7f439d34368be36ea32cc26824c",
       "version_major": 2,
       "version_minor": 0
      },
      "text/plain": [
       "README.md:   0%|          | 0.00/534 [00:00<?, ?B/s]"
      ]
     },
     "metadata": {},
     "output_type": "display_data"
    },
    {
     "data": {
      "application/vnd.jupyter.widget-view+json": {
       "model_id": "c0873532d6bf48f4bb631cf54d1735c3",
       "version_major": 2,
       "version_minor": 0
      },
      "text/plain": [
       "Uploading the dataset shards:   0%|          | 0/1 [00:00<?, ?it/s]"
      ]
     },
     "metadata": {},
     "output_type": "display_data"
    },
    {
     "data": {
      "application/vnd.jupyter.widget-view+json": {
       "model_id": "4027199a388f4567a33c493be3c5d516",
       "version_major": 2,
       "version_minor": 0
      },
      "text/plain": [
       "Creating parquet from Arrow format:   0%|          | 0/1 [00:00<?, ?ba/s]"
      ]
     },
     "metadata": {},
     "output_type": "display_data"
    },
    {
     "data": {
      "application/vnd.jupyter.widget-view+json": {
       "model_id": "22349a5b0005498fbfad41e8162f7482",
       "version_major": 2,
       "version_minor": 0
      },
      "text/plain": [
       "README.md:   0%|          | 0.00/534 [00:00<?, ?B/s]"
      ]
     },
     "metadata": {},
     "output_type": "display_data"
    },
    {
     "data": {
      "text/plain": [
       "CommitInfo(commit_url='https://huggingface.co/datasets/samitizerxu/hell-pass1/commit/c401d7afbd8c4cd864e6277f100bebe372905c22', commit_message='Upload dataset', commit_description='', oid='c401d7afbd8c4cd864e6277f100bebe372905c22', pr_url=None, repo_url=RepoUrl('https://huggingface.co/datasets/samitizerxu/hell-pass1', endpoint='https://huggingface.co', repo_type='dataset', repo_id='samitizerxu/hell-pass1'), pr_revision=None, pr_num=None)"
      ]
     },
     "execution_count": 37,
     "metadata": {},
     "output_type": "execute_result"
    }
   ],
   "source": [
    "# Convert to huggingface dataset\n",
    "from datasets import Dataset\n",
    "\n",
    "hf_tok = os.getenv(\"HF_TOK\")\n",
    "\n",
    "# Convert pandas DataFrame to Huggingface Dataset\n",
    "easy_train = Dataset.from_pandas(df_easy_train, split=\"train\")\n",
    "easy_val = Dataset.from_pandas(df_easy_train, split=\"test\")\n",
    "\n",
    "easy_val.to_csv(\"easy_val.csv\")\n",
    "\n",
    "# Push to hub\n",
    "easy_train.push_to_hub(\n",
    "    \"samitizerxu/easy-pass1\",\n",
    "    private=True,\n",
    "    token=hf_tok  # Replace with actual token\n",
    ")\n",
    "\n",
    "easy_val.push_to_hub(\n",
    "    \"samitizerxu/easy-pass1\", \n",
    "    private=True,\n",
    "    token=hf_tok\n",
    ")\n",
    "\n",
    "medium_train = Dataset.from_pandas(df_medium_train, split=\"train\")\n",
    "medium_val = Dataset.from_pandas(df_medium_val, split=\"test\")\n",
    "\n",
    "medium_val.to_csv(\"medium_val.csv\")\n",
    "\n",
    "medium_train.push_to_hub(\n",
    "    \"samitizerxu/medium-pass1\",\n",
    "    private=True, \n",
    "    token=hf_tok\n",
    ")\n",
    "\n",
    "medium_val.push_to_hub(\n",
    "    \"samitizerxu/medium-pass1\",\n",
    "    private=True,\n",
    "    token=hf_tok\n",
    ")\n",
    "\n",
    "hard_train = Dataset.from_pandas(df_hard_train, split=\"train\")\n",
    "hard_val = Dataset.from_pandas(df_hard_val, split=\"test\") \n",
    "\n",
    "hard_val.to_csv(\"hard_val.csv\")\n",
    "\n",
    "hard_train.push_to_hub(\n",
    "    \"samitizerxu/hard-pass1\",\n",
    "    private=True,\n",
    "    token=hf_tok\n",
    ")\n",
    "\n",
    "hard_val.push_to_hub(\n",
    "    \"samitizerxu/hard-pass1\",\n",
    "    private=True,\n",
    "    token=hf_tok\n",
    ")\n",
    "\n",
    "damn_train = Dataset.from_pandas(df_damn_train, split=\"train\")\n",
    "damn_val = Dataset.from_pandas(df_damn_val, split=\"test\")\n",
    "\n",
    "damn_val.to_csv(\"damn_val.csv\")\n",
    "\n",
    "damn_train.push_to_hub(\n",
    "    \"samitizerxu/damn-pass1\", \n",
    "    private=True,\n",
    "    token=hf_tok\n",
    ")\n",
    "\n",
    "damn_val.push_to_hub(\n",
    "    \"samitizerxu/damn-pass1\",\n",
    "    private=True,\n",
    "    token=hf_tok\n",
    ")\n",
    "\n",
    "hell_train = Dataset.from_pandas(df_hell_train, split=\"train\")\n",
    "hell_val = Dataset.from_pandas(df_hell_val, split=\"test\")\n",
    "\n",
    "hell_val.to_csv(\"hell_val.csv\")\n",
    "\n",
    "hell_train.push_to_hub(\n",
    "    \"samitizerxu/hell-pass1\",\n",
    "    private=True,\n",
    "    token=hf_tok\n",
    ")\n",
    "\n",
    "hell_val.push_to_hub(\n",
    "    \"samitizerxu/hell-pass1\",\n",
    "    private=True,\n",
    "    token=hf_tok\n",
    ")"
   ]
  },
  {
   "cell_type": "code",
   "execution_count": null,
   "metadata": {},
   "outputs": [
    {
     "data": {
      "application/vnd.jupyter.widget-view+json": {
       "model_id": "e14c09975e974aeeac1fd95aaa844270",
       "version_major": 2,
       "version_minor": 0
      },
      "text/plain": [
       "Uploading the dataset shards:   0%|          | 0/1 [00:00<?, ?it/s]"
      ]
     },
     "metadata": {},
     "output_type": "display_data"
    },
    {
     "data": {
      "application/vnd.jupyter.widget-view+json": {
       "model_id": "b7d7038d5f114d37add71c62743f2c6e",
       "version_major": 2,
       "version_minor": 0
      },
      "text/plain": [
       "Creating parquet from Arrow format:   0%|          | 0/1 [00:00<?, ?ba/s]"
      ]
     },
     "metadata": {},
     "output_type": "display_data"
    },
    {
     "data": {
      "application/vnd.jupyter.widget-view+json": {
       "model_id": "bff6af66b8f949fabd2af7ce8b464e45",
       "version_major": 2,
       "version_minor": 0
      },
      "text/plain": [
       "Uploading the dataset shards:   0%|          | 0/1 [00:00<?, ?it/s]"
      ]
     },
     "metadata": {},
     "output_type": "display_data"
    },
    {
     "data": {
      "application/vnd.jupyter.widget-view+json": {
       "model_id": "b98c8858134f407c866111a402bd06df",
       "version_major": 2,
       "version_minor": 0
      },
      "text/plain": [
       "Creating parquet from Arrow format:   0%|          | 0/1 [00:00<?, ?ba/s]"
      ]
     },
     "metadata": {},
     "output_type": "display_data"
    },
    {
     "data": {
      "application/vnd.jupyter.widget-view+json": {
       "model_id": "d6de29517c78404a80a1ae67f44888ce",
       "version_major": 2,
       "version_minor": 0
      },
      "text/plain": [
       "Uploading the dataset shards:   0%|          | 0/1 [00:00<?, ?it/s]"
      ]
     },
     "metadata": {},
     "output_type": "display_data"
    },
    {
     "data": {
      "application/vnd.jupyter.widget-view+json": {
       "model_id": "94443ce5408b48deb460f7ffe6d6d680",
       "version_major": 2,
       "version_minor": 0
      },
      "text/plain": [
       "Creating parquet from Arrow format:   0%|          | 0/1 [00:00<?, ?ba/s]"
      ]
     },
     "metadata": {},
     "output_type": "display_data"
    },
    {
     "data": {
      "application/vnd.jupyter.widget-view+json": {
       "model_id": "2f597626169c41218e99bd448b8c37c7",
       "version_major": 2,
       "version_minor": 0
      },
      "text/plain": [
       "Uploading the dataset shards:   0%|          | 0/1 [00:00<?, ?it/s]"
      ]
     },
     "metadata": {},
     "output_type": "display_data"
    },
    {
     "data": {
      "application/vnd.jupyter.widget-view+json": {
       "model_id": "76b96f85b7d14f5f974aa6625453d9b6",
       "version_major": 2,
       "version_minor": 0
      },
      "text/plain": [
       "Creating parquet from Arrow format:   0%|          | 0/1 [00:00<?, ?ba/s]"
      ]
     },
     "metadata": {},
     "output_type": "display_data"
    },
    {
     "data": {
      "application/vnd.jupyter.widget-view+json": {
       "model_id": "2b74d0ec8cbf462ebe47630ad8c0dc6b",
       "version_major": 2,
       "version_minor": 0
      },
      "text/plain": [
       "Uploading the dataset shards:   0%|          | 0/1 [00:00<?, ?it/s]"
      ]
     },
     "metadata": {},
     "output_type": "display_data"
    },
    {
     "data": {
      "application/vnd.jupyter.widget-view+json": {
       "model_id": "a1ff426e9561492ca8b469386db6e9fc",
       "version_major": 2,
       "version_minor": 0
      },
      "text/plain": [
       "Creating parquet from Arrow format:   0%|          | 0/1 [00:00<?, ?ba/s]"
      ]
     },
     "metadata": {},
     "output_type": "display_data"
    },
    {
     "data": {
      "text/plain": [
       "CommitInfo(commit_url='https://huggingface.co/datasets/samitizerxu/hell-pass2/commit/2d52738084510c0df298adbdaa5e6a99df270076', commit_message='Upload dataset', commit_description='', oid='2d52738084510c0df298adbdaa5e6a99df270076', pr_url=None, repo_url=RepoUrl('https://huggingface.co/datasets/samitizerxu/hell-pass2', endpoint='https://huggingface.co', repo_type='dataset', repo_id='samitizerxu/hell-pass2'), pr_revision=None, pr_num=None)"
      ]
     },
     "execution_count": 274,
     "metadata": {},
     "output_type": "execute_result"
    }
   ],
   "source": [
    "easy_full = Dataset.from_pandas(df_easy, split='train')\n",
    "\n",
    "easy_full.push_to_hub(\n",
    "    \"samitizerxu/easy-pass2\",\n",
    "    private=True,\n",
    "    token=hf_tok\n",
    ")\n",
    "\n",
    "medium_full = Dataset.from_pandas(df_medium, split='train')\n",
    "\n",
    "medium_full.push_to_hub(\n",
    "    \"samitizerxu/medium-pass2\",\n",
    "    private=True,\n",
    "    token=hf_tok\n",
    ")\n",
    "\n",
    "hard_full = Dataset.from_pandas(df_hard, split='train')\n",
    "\n",
    "hard_full.push_to_hub(\n",
    "    \"samitizerxu/hard-pass2\",\n",
    "    private=True,\n",
    "    token=hf_tok\n",
    ")\n",
    "\n",
    "\n",
    "damn_full = Dataset.from_pandas(df_damn, split='train')\n",
    "\n",
    "damn_full.push_to_hub(\n",
    "    \"samitizerxu/damn-pass2\",\n",
    "    private=True,\n",
    "    token=hf_tok\n",
    ")\n",
    "\n",
    "hell_full = Dataset.from_pandas(df_hell, split='train')\n",
    "\n",
    "hell_full.push_to_hub(\n",
    "    \"samitizerxu/hell-pass2\",\n",
    "    private=True,\n",
    "    token=hf_tok\n",
    ")"
   ]
  },
  {
   "cell_type": "code",
   "execution_count": null,
   "metadata": {},
   "outputs": [],
   "source": []
  },
  {
   "cell_type": "code",
   "execution_count": 276,
   "metadata": {},
   "outputs": [
    {
     "data": {
      "text/plain": [
       "Index(['uuid', 'exec_time', 'runtime_s', 'p_id', 'run_name', 'prediction',\n",
       "       'label', 'extracted_answers', 'reasoning', 'answer', 'problem',\n",
       "       'solution', 'reasoning_parsed', 're_extracted_answers',\n",
       "       'prop_correct_orig', 'prop_correct_uniform', 'prop_correct'],\n",
       "      dtype='object')"
      ]
     },
     "execution_count": 276,
     "metadata": {},
     "output_type": "execute_result"
    }
   ],
   "source": [
    "df_easy_medium_hard = pd.merge()"
   ]
  },
  {
   "cell_type": "code",
   "execution_count": 41,
   "metadata": {},
   "outputs": [
    {
     "data": {
      "text/plain": [
       "628"
      ]
     },
     "execution_count": 41,
     "metadata": {},
     "output_type": "execute_result"
    }
   ],
   "source": [
    "len(df_merged)"
   ]
  },
  {
   "cell_type": "code",
   "execution_count": 39,
   "metadata": {},
   "outputs": [
    {
     "data": {
      "application/vnd.jupyter.widget-view+json": {
       "model_id": "adc43b4a73994dd080754659724a050c",
       "version_major": 2,
       "version_minor": 0
      },
      "text/plain": [
       "Uploading the dataset shards:   0%|          | 0/1 [00:00<?, ?it/s]"
      ]
     },
     "metadata": {},
     "output_type": "display_data"
    },
    {
     "data": {
      "application/vnd.jupyter.widget-view+json": {
       "model_id": "d693b1ea38b140fa95267e2b0d90b512",
       "version_major": 2,
       "version_minor": 0
      },
      "text/plain": [
       "Creating parquet from Arrow format:   0%|          | 0/1 [00:00<?, ?ba/s]"
      ]
     },
     "metadata": {},
     "output_type": "display_data"
    },
    {
     "data": {
      "application/vnd.jupyter.widget-view+json": {
       "model_id": "62edf5d7a58f4d9883a00b4179581bdc",
       "version_major": 2,
       "version_minor": 0
      },
      "text/plain": [
       "README.md:   0%|          | 0.00/356 [00:00<?, ?B/s]"
      ]
     },
     "metadata": {},
     "output_type": "display_data"
    },
    {
     "data": {
      "text/plain": [
       "CommitInfo(commit_url='https://huggingface.co/datasets/samitizerxu/full_math/commit/a905ee010d276f5c5df277c7b55a920d62434fd2', commit_message='Upload dataset', commit_description='', oid='a905ee010d276f5c5df277c7b55a920d62434fd2', pr_url=None, repo_url=RepoUrl('https://huggingface.co/datasets/samitizerxu/full_math', endpoint='https://huggingface.co', repo_type='dataset', repo_id='samitizerxu/full_math'), pr_revision=None, pr_num=None)"
      ]
     },
     "execution_count": 39,
     "metadata": {},
     "output_type": "execute_result"
    }
   ],
   "source": [
    "full = Dataset.from_pandas(df_merged, split='train')\n",
    "\n",
    "full.push_to_hub(\n",
    "    \"samitizerxu/full_math\",\n",
    "    private=True,\n",
    "    token=hf_tok\n",
    ")"
   ]
  },
  {
   "cell_type": "code",
   "execution_count": 133,
   "metadata": {},
   "outputs": [
    {
     "data": {
      "text/plain": [
       "np.float64(0.5637393767705382)"
      ]
     },
     "execution_count": 133,
     "metadata": {},
     "output_type": "execute_result"
    }
   ],
   "source": [
    "df_merged.apply(lambda row: row['label'] in row['extracted_answers'][:7], axis=1).mean()"
   ]
  }
 ],
 "metadata": {
  "kernelspec": {
   "display_name": "ML",
   "language": "python",
   "name": "python3"
  },
  "language_info": {
   "codemirror_mode": {
    "name": "ipython",
    "version": 3
   },
   "file_extension": ".py",
   "mimetype": "text/x-python",
   "name": "python",
   "nbconvert_exporter": "python",
   "pygments_lexer": "ipython3",
   "version": "3.10.12"
  }
 },
 "nbformat": 4,
 "nbformat_minor": 2
}
