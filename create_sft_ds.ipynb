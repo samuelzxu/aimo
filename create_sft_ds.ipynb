{
 "cells": [
  {
   "cell_type": "code",
   "execution_count": 2,
   "metadata": {},
   "outputs": [
    {
     "data": {
      "text/plain": [
       "True"
      ]
     },
     "execution_count": 2,
     "metadata": {},
     "output_type": "execute_result"
    }
   ],
   "source": [
    "import os\n",
    "import gc\n",
    "import time\n",
    "import warnings\n",
    "\n",
    "import pandas as pd\n",
    "import polars as pl\n",
    "import uuid\n",
    "import json\n",
    "from typing import List\n",
    "from datetime import datetime\n",
    "import psycopg2\n",
    "import re\n",
    "import random\n",
    "from collections import Counter\n",
    "from dotenv import load_dotenv\n",
    "\n",
    "load_dotenv()"
   ]
  },
  {
   "cell_type": "code",
   "execution_count": 3,
   "metadata": {},
   "outputs": [],
   "source": [
    "\n",
    "# Login using e.g. `huggingface-cli login` to access this dataset\n",
    "s1_df = pd.read_parquet(\"hf://datasets/simplescaling/s1K-1.1/data/train-00000-of-00001.parquet\")"
   ]
  },
  {
   "cell_type": "code",
   "execution_count": 4,
   "metadata": {},
   "outputs": [
    {
     "name": "stderr",
     "output_type": "stream",
     "text": [
      "None of PyTorch, TensorFlow >= 2.0, or Flax have been found. Models won't be available and only tokenizers, configuration and file/data utilities can be used.\n",
      "Token indices sequence length is longer than the specified maximum sequence length for this model (16459 > 16384). Running this sequence through the model will result in indexing errors\n"
     ]
    },
    {
     "data": {
      "text/plain": [
       "np.int64(902)"
      ]
     },
     "execution_count": 4,
     "metadata": {},
     "output_type": "execute_result"
    }
   ],
   "source": [
    "from transformers import AutoTokenizer\n",
    "\n",
    "tokenizer = AutoTokenizer.from_pretrained(\"deepseek-ai/DeepSeek-R1-Distill-Qwen-14B\")\n",
    "s1_df[\"deepseek_thinking_trajectory\"].apply(lambda traj: len(tokenizer.tokenize(traj))).apply(lambda l: l <= 15700).sum()"
   ]
  },
  {
   "cell_type": "code",
   "execution_count": 5,
   "metadata": {},
   "outputs": [],
   "source": [
    "test_trace = s1_df['deepseek_thinking_trajectory'].iloc[0]"
   ]
  },
  {
   "cell_type": "markdown",
   "metadata": {},
   "source": [
    "# Regex'ing"
   ]
  },
  {
   "cell_type": "code",
   "execution_count": 6,
   "metadata": {},
   "outputs": [],
   "source": [
    "start_tag = '<keep>'\n",
    "end_tag = '</keep>'\n",
    "s = \"Hi my name is Sam. I am a student at Stanford University. I am a student at Stanford University. I am a student at Stanford University.\"\n",
    "\n",
    "def return_para_w_last_sentence_wrapped(para: str, last_n_sentences: int = 2):\n",
    "    # Match a period, space, and then a capital letter\n",
    "    eos_regex = r'[.!?]\\s[A-Z]'\n",
    "    offset = 2\n",
    "    \n",
    "    positions = [m.start() for m in re.finditer(eos_regex, para)]\n",
    "    if positions == []:\n",
    "        positions = [0]\n",
    "        offset = 0\n",
    "    if len(positions) < last_n_sentences:\n",
    "        last_n_sentences = len(positions)\n",
    "    last_sentence_start = positions[-1*last_n_sentences]+offset\n",
    "    last_sentence = para[last_sentence_start:]\n",
    "    wrapped_sentence = f'{start_tag}{last_sentence}{end_tag}'\n",
    "    wrapped_paragraph = f'{para[:last_sentence_start]}{wrapped_sentence}\\n\\n'\n",
    "    return wrapped_paragraph\n"
   ]
  },
  {
   "cell_type": "code",
   "execution_count": 7,
   "metadata": {},
   "outputs": [
    {
     "name": "stdout",
     "output_type": "stream",
     "text": [
      "Alright, so I need to figure out how many rational numbers between 0 and 1 have a product of the numerator and denominator (when written in lowest terms) equal to 20 factorial. <keep>Let me start by understanding the problem.</keep>\n",
      "\n",
      "First, a rational number between 0 and 1 can be written as a fraction \\(\\frac{a}{b}\\) where \\(0 < a < b\\) and \\(a\\) and \\(b\\) are coprime positive integers. The product \\(a \\times b\\) is said to be equal to 20! which is a huge number. <keep>So I need to find all pairs \\((a, b)\\) such that \\(a \\times b = 20!\\), \\(0 < a < b\\), and \\(\\gcd(a, b) = 1\\). Then count how many such pairs exist.</keep>\n",
      "\n",
      "Let me break down the problem.\n",
      "\n",
      "Given that \\(a \\times b = 20!\\) and \\(\\gcd(a, b) = 1\\), it means that \\(a\\) and \\(b\\) are coprime factors of 20!. So they form a coprime pair whose product is 20!. Such pairs are related to the divisors of 20! where each pair consists of two coprime numbers.\n",
      "\n",
      "But since the fraction is between 0 and 1, \\(a < b\\). So for each such coprime pair where \\(a < b\\), we have a distinct rational number, and each of these would satisfy \\(a \\times b = 20!\\). Hence, the problem reduces to finding the number of coprime pairs \\((a, b)\\) where \\(a \\times b = 20!\\) and \\(a < b\\).\n",
      "\n",
      "<keep>Now, how do I count such pairs?</keep>\n",
      "\n",
      "Alternatively, in number theory, this is equivalent to counting the number of ways to write 20! as a product of two coprime numbers, \\(a\\) and \\(b\\), with \\(a < b\\). Since \\(a\\) and \\(b\\) are coprime, each prime factor in 20! must go entirely to \\(a\\) or entirely to \\(b\\). Hence, each coprime pair corresponds to a subset of the prime factors of 20!, where \\(a\\) is the product of the primes in the subset and \\(b\\) is the product of the remaining primes. However, since 20! is not just the product of primes, but the product of primes raised to various powers. Wait, so maybe I need to rethink that.\n",
      "\n",
      "Wait, actually 20! has prime factors with exponents. For example, 2^18, 3^8, 5^4, etc., up to the primes less than or equal to 20. <keep>But if I need two coprime numbers \\(a\\) and \\(b\\) such that \\(a \\times b = 20!\\), then each of the prime powers in the factorization of 20! must go entirely to one of the numbers \\(a\\) or \\(b\\). So for each prime factor, we assign it to either \\(a\\) or \\(b\\), but not both.</keep>\n",
      "\n",
      "Therefore, the number of such coprime pairs is \\(2^k\\), where \\(k\\) is the number of distinct prime factors of 20!.\n",
      "\n",
      "But wait, 20! has prime factors: 2, 3, 5, 7, 11, 13, 17, 19. Let me check. The primes less than or equal to 20 are: 2, 3, 5, 7, 11, 13, 17, 19. So that's 8 primes. Therefore, the number of coprime pairs would be \\(2^8 = 256\\), but each pair is counted twice except when \\(a = b\\). But since \\(a \\times b = 20!\\) and \\(a\\) and \\(b\\) are coprime, \\(a = 1\\) and \\(b = 20!\\), or vice versa; however, \\(a\\) and \\(b\\) can't be equal unless 20! is a square, which it is not (since exponents in its prime factorization are all even? Wait, 20! has exponents:\n",
      "\n",
      "Let me do prime factorization of 20!.\n",
      "\n",
      "<keep>To compute the exponents of primes in 20!:</keep>\n",
      "\n",
      "For prime 2: floor(20/2) + floor(20/4) + floor(20/8) + floor(20/16) =10+5+2+1=18\n",
      "\n",
      "For prime 3: floor(20/3) + floor(20/9) + floor(20/27)=6 +2 +0=8\n",
      "\n",
      "<keep>For prime 5: floor(20/5) + floor(20/25)=4 +0=4</keep>\n",
      "\n",
      "Prime 7: floor(20/7) + floor(20/49)=2 +0=2\n",
      "\n",
      "Primes 11: floor(20/11)=1, similar for 13, 17, 19. So yes, primes 11, 13, 17, 19 each have exponent 1 in 20!.\n",
      "\n",
      "<keep>So exponents are: 18 (2), 8 (3), 4 (5), 2 (7), 1 (11), 1 (13), 1 (17), 1 (19)</keep>\n",
      "\n",
      "Since all exponents except for 2,3,5,7 have exponent 1, and exponents for 2,3,5,7 are even and odd.\n",
      "\n",
      "Therefore, 20! is not a perfect square because, for example, exponent of 3 is 8 (even), exponent of 2 is 18 (even), but exponent of 5 is 4 (even), 2 (7) (even?), no 7 has exponent 2? Wait for 7: floor(20/7)=2 (floor(20/49) = 0), so that's exponent 2.\n",
      "\n",
      "<keep>Wait, 7^2 divides into 20! but 7^3 does not.</keep>\n",
      "\n",
      "But exponent of 7 is 2, which is even. Wait a second. Then primes 11, 13,17,19 have exponent 1.\n",
      "\n",
      "So primes 2: 18, 3: 8, 5:4,7:2, which are all even? Wait, 18,8,4,2, which are even. Wait, that would mean the only primes with odd exponents are 11,13,17,19? Wait, but their exponents are 1, which is odd. Actually, wait nvm, the exponents for 2,3,5,7 are even?\n",
      "\n",
      "<keep>Wait floor operations:</keep>\n",
      "\n",
      "For prime 2: 20/2=10, 10 terms, then 5, 2, 1.\n",
      "\n",
      "Wait, 18 for exponent of 2. Which is even. 3: 8, even. 5: 4, even. 7:2, even. Then 11,13,17,19 each only once. So actually, their exponents are odd (each exponent is 1). Therefore, 20! can be written as (2^18)(3^8)(5^4)(7^2)(11^1)(13^1)(17^1)(19^1). So exponents of the primes 11,13,17,19 are 1 (each odd?), and the others are even. Thus, 20! is not a square because it has primes raised to odd exponents. Therefore, there are no solutions where \\(a = b\\). So all coprime pairs with \\(a \\times b = 20!\\) must have \\(a \\neq b\\). Hence, total coprime pairs are \\(2^{8}\\), where each prime can be assigned to either \\(a\\) or \\(b\\). But since each assignment corresponds to a unique pair (a,b) or (b,a), but we have \\(a \\times b = 20!\\) and \\(a < b\\), so pairs (a,b) and (b,a) are distinct unless a=b, which here is impossible. Therefore, total number of unordered pairs would be \\(2^{8 - 1} =128\\), since each pair is counted twice. But actually, since we are considering ordered pairs where a < b, then we need to divide the total by 2.\n",
      "\n",
      "Wait, but the problem says \"how many rational numbers between 0 and 1\", each such number is associated with a unique pair (a,b) where a < b. So the count is half the number of coprime ordered pairs, or is it?\n",
      "\n",
      "Wait, but perhaps the counting is as follows: Each prime in 20!'s factorization (if each prime exponent is assigned to a or b) gives 2^k possibilities, with k the number of distinct prime factors. Each distinct assignment gives a coprime pair (a,b) where a and b are products of assigned primes. <keep>However, since for each such assignment, either a < b or a > b. Since the assignments consist of selecting a subset S of the set of prime factors, then a = product_{p in S} p^{e_p}, and b = 20! / a.</keep>\n",
      "\n",
      "But in order to count the pairs where a < b, I just need to calculate how many subsets S of the prime factors (or rather, assigning each prime to a... <keep>The confusion is that since 20! is not squareful; but even so, does assigning a prime to a versus b affect the magnitude of a compared to b?</keep>\n",
      "\n",
      "Wait, 20! is a fixed number, but how is a related to b? a is a product of some prime powers (all primes assigned to a must go completely into a) and then b is 20! / a, with all the remaining prime powers. Therefore, a can vary from 1 up to sqrt(20!) if possible, but since 20! is not a square, it's a bit ambiguous. For each a < b, the corresponding b > a would be 20! / a. Therefore, the number of pairs with a < b is equal to the number of possible a such that a < 20!a^{-1}, which simplifies to a^2 < 20! or a < sqrt(20!). Therefore, the number of such a is half the total number of divisors, adjusted for square factors. However, we are dealing specifically here with coprime pairs (a,b) such that a*b=20!, and gcd(a,b)=1, so a and b are products of complementary prime factors.\n",
      "\n",
      "Therefore, for each subset of the prime factors of 20!, there corresponds one unique a (by multiplying all primes in the subset) and one unique b (multiplying the rest).\n",
      "\n",
      "Since each subset has a unique complement, the number of unordered pairs is indeed 2^{k-1}, where k is primes. But, since prime factors with exponents: Wait, but each prime is either included in a or not, so there are 2 choices per prime. Since 20! has 8 distinct prime factors (2,3,5,7,11,13,17,19), each of which must be assigned fully to a or b, the number of ordered pairs (a,b) would be 2^8 = 256. However, because 20! is not a square (due to the primes with exponents as discussed earlier), there are no pairs where a = b. Hence, each unordered pair {a, b} is counted twice in the 256 ordered pairs.\n",
      "\n",
      "But in our problem, we need the ordered pairs (a, b) where a < b, which is exactly half of the total ordered pairs (excluding the a = b case, which does not exist here). Therefore, the total number should be 256 / 2 = 128. But hold on, is this correct?\n",
      "\n",
      "Wait, perhaps not quite. Since not all assignments will satisfy a < b, even for coprime divisors. Wait, but in reality, since a is a number composed by assigning primes to a (possibly a = product of primes raised to their exponents).. <keep>Wait, confusion arises here.</keep>\n",
      "\n",
      "Wait, actually, we need to be precise. When we say that a and b are coprime with a*b=20!, then a and b must be square-free? No, that's not correct. Each must have all primes exponents from 20! For example, if I assign prime 2 to a, then a would have 2 to the 18th power, whereas 3 might be assigned to b, so the exponent of 3 would be to the 8th in b. Wait, but a and b have exponents for the primes? Wait no, in the problem statement, the numerator and denominator (a and b) when written in lowest terms. If the original rational number is  in lowest terms, that means that a and b are coprime, hence exponents of primes in 20! are distributed completely to a or to b. <keep>Thus, the product a*b=20! means that each prime's exponent in 20! is divided between a and b? But since they must be coprime, it's either assigned entirely to a or to b.</keep>\n",
      "\n",
      "Therefore, 20! can be considered as a product of coprime numbers a and b for which all primes in a share no primes with b. Therefore, the coprime pairs (a,b) with a*b=20! are in correspondence with the subsets of the set of prime factors of 20!.\n",
      "\n",
      "Each prime factor must go either to a or to b, since a and b are coprime. Therefore, each prime is assigned to a or b, so the total number of such assignments is 2^8 (since there are 8 distinct primes in 20!'s factorization). Each assignment produces a unique coprime pair (a, b) with a*b=20!.\n",
      "\n",
      "<keep>But here, (a,b) is an ordered pair, hence assignments where primes are assigned to a vs. assigned to b result in a different ordered pair.</keep>\n",
      "\n",
      "However, our problem wants rational numbers between 0 and 1, which corresponds to a < b (because 0 < a/b < 1 implies a < b). Therefore, the number of such fractions is equal to the number of coprime divisor pairs (a,b) where a*b=20! and a < b. Since each coprime pair (a,b) with a < b corresponds to the exact opposite pair (b,a) with b > a. Therefore, half of the total ordered coprime pairs (excluding duplicates) would give the count.\n",
      "\n",
      "But since in each such coprime pair of divisors, (a,b) and (b,a) are distinct (since we're considering ordered pairs), then the number of coprime pairs with a < b is exactly half of the total number of coprime pairs. Since the total number is 2^8=256 (since each prime is either assigned to a or to b, 2 choices per prime), but the assignment where a = 1 (all primes assigned to b) and b = 20! (there's exactly one such case), and a can be 1, then proceed. Wait, 1 is the product of assigning no primes to a (all primes to b), so that's included.\n",
      "\n",
      "But if a and b can be written as a = 1 and b = 20!, yes, that's a coprime pair, likewise a=2^18 and b= (20!)/2^18 which is still an integer. Similarly for all subsets. Wait, but when we write a and b as coprime factors, the way I'm thinking is that the assignment is of each prime as a binary choice (to a or to b). <keep>So 2^8 equals 256 possible assignments, and each assignment defines a unique coprime pair (a,b) where a * b=20!. Since each assignment is unique, each ordered pair is distinct, even if a and b are swapped.</keep>\n",
      "\n",
      "Since such ordered pairs can have a < b or a > b, so then to get the (a,b) with a < b, we divide by 2, which gives 128.\n",
      "\n",
      "But wait, can it be? Let me check with a smaller factorial.\n",
      "\n",
      "Suppose instead of 20!, take a simpler case. Let me check with n = 6. Then 6! = 720. Let's ask for rationals between 0 and 1 with product a*b=720, gcd(a,b)=1, a < b. Then 720 prime factorization: 2^4 *3^2 *5^1. So number of primes is 3 (2,3,5). Each can be assigned to a or b, so 2^3=8 coprime pairs. Then half of them, 4 pairs would have a < b. Let's check. Possible assignments:\n",
      "\n",
      "1. Assign none to a: a =1, b=720. <keep>Then 1*720=720.</keep>\n",
      "\n",
      "   a=1 < b=720 : valid.\n",
      "\n",
      "2. Assign 2 to a, others to b: a=16 (2^4), b=45 (3^2 *5). gcd(16,45)=1. Check a=16 < b=45? 16 <45: yes.\n",
      "\n",
      "3. Assign 3 to a, others to b: a=9 (3^2), b=80 (16 *5). <keep>Check 9 <80: yes.</keep>\n",
      "\n",
      "4. Assign 5 to a, others to b: a=5, b= 144 (16*9). 5 <144: yes.\n",
      "\n",
      "5. Assign 2 and 3 to a: a=16*9=144, b=5. Now a=144 and b=5. But 144 >5, so would be considered as a different pair if ordered. But in assignments, assigning to a or b. So here, ordering matters. Therefore, for the purpose of our count, pairing where 2 and 3 are assigned to a would create a=144, b=5, but since a < b is required, this does NOT count. So the assignment of primes {2,3} to a would result in a product a=144, b=5. To reach a < b, the valid pairs where assignment to a. Wait, This seems miscalculous.\n",
      "\n",
      "Wait no, in 720's case. Assign 2 and 3 to a would mean a=(2^4)*(3^2)=144, while assigning rest (5) to b=5. Since 144 and 5: gcd(144,5)=1, and ab=144*5=720 indeed. <keep>But a=144>5, so this would not satisfy a < b, therefore this assignment would not be included in the count. So how do we reconcile the count.</keep>\n",
      "\n",
      "If the number of coprime assignments (with order) is 2^3=8, but how many of those assignments result in a < b?\n",
      "\n",
      "<keep>So for 720, with prime factors 2,3,5:</keep>\n",
      "\n",
      "The 8 assignments:\n",
      "\n",
      "1. Assign none to a => a=1, b=720 (1 <720: yes)\n",
      "\n",
      "2. <keep>Assign 2 to a => a=16, b=45 (16 <45: yes)</keep>\n",
      "\n",
      "3. Assign 3 to a =>a=9, b=80 (9 <80: yes)\n",
      "\n",
      "4. Assign 5 to a =>a=5, b=144 (5 <144: yes)\n",
      "\n",
      "5. <keep>Assign 2 and3 to a => a=144, b=5 (a >b: no)</keep>\n",
      "\n",
      "6. Assign 2 and5 to a => a=16*5=80, b=9 (80 >9: no)\n",
      "\n",
      "7. Assign3 and5 to a => a=9*5=45, b=16 (45>16: no)\n",
      "\n",
      "8. <keep>Assign all three primes to a =>a=720, b=1 (a> b: no)</keep>\n",
      "\n",
      "Therefore, out of 8 assignments, 4 result in a < b and 4 in a >b. So when 720 is not a square, which it is not (since exponent of 5 is 1, odd), thus the case a=b is not possible, hence the number of ordered coprime pairs with a < b is half the total, which is 4. So in general, the answer seems to be half of the number of coprime ordered pairs.\n",
      "\n",
      "Therefore, again, number for 20! would be 2^8 /2 =128. So 128 coprime pairs (a,b) with a < b. However, perhaps there's a problem here.\n",
      "\n",
      "Wait, in the case when assignments are made for each prime, but, in the original problem, the numerator and denominator are reduced to lowest terms. Which in original fraction it's not required that the numerator and denominator multiply to 20!; rather, the reduced fraction \\(\\frac{a}{b}\\) has the product a*b which is 20 factorial. Wait, that needs to be resolved.\n",
      "\n",
      "Wait, perhaps that's the confusion. The original number is some fraction as part of between 0 and 1. <keep>When written in lowest terms, numerator a and denominator b must satisfy that. However, a different way to phrase this is: a is numerator and b is denominator in reduced form (so gcd(a, b)=1), and when you compute the product a*b, this product is equal to 20!.</keep>\n",
      "\n",
      "Hence, the question is equivalent to: how many pairs (a, b) are there with gcd(a, b)=1, 0 < a < b, and a * b = 20!\n",
      "\n",
      "<keep>Which translates as, (since 20! is fixed and a*b=20!), how many ways can 20! be split into two coprime factors a and b, both positive integers, a < b.</keep>\n",
      "\n",
      "And this number is equal to 2^{k -1}, where k is the number of distinct prime factors of 20!.\n",
      "\n",
      "But since the number of distinct prime factors of 20! is 8 (since primes 2, 3, 5, 7, 11,13,17,19). Hence, 2^{8 -1}= 128. Hence, result. Wait, this would be 2^{k-1}=128. Alternatively, total number of subsets is 2^8=256, each ordered pairs. Taking half because a < b hence 256/2=128. So confirms.\n",
      "\n",
      "But let me check with the 6! example. For 6!, which had instead three distinct prime factors (2,3,5), number of coprime pairs where a < b is 4 (by explicit count above). But 2^{3-1}= 4 correct. <keep>Hence, Therefore, the formula is 2^{k -1).</keep>\n",
      "\n",
      "Hence, for 20! with 8 prime factors, number of coprime pairs with a < b and a*b=20! is 2^{8-1}=128, which seems correct.\n",
      "\n",
      "But Wait, what about multiplicity. For example, 1 and 720 were co-prime (a=1, b=720). Then you had 16 and 45, and 9 and 80, and 5 and 144. How is it multiplicative, related to the number of prime factors?\n",
      "\n",
      "Yes, but 6! is 720, and had three prime factors. <keep>The number of coprime pairs a < b where a*b=720 is 4, which is 2^{3-1}=4.</keep>\n",
      "\n",
      "Similarly, if n is a square-free number, which 720 is not square-free (as 720=16*45=24^2*5).\n",
      "\n",
      "But in general, n! will have prime factors multiplicities.\n",
      "\n",
      "But our problem states n=20. <keep>So 20!.</keep>\n",
      "\n",
      "Regardless of the multiplicities (since in order for a and b to be coprime, the entire allocation of each prime has to go to one factor). Therefore, how primes are assigned has a per-prime dependence.\n",
      "\n",
      "Wait, so since for each prime, regardless of exponent (even or odd), we must give it entirely to a or b, which leads to these coprime pairs. So seems that the number is, in general, 2^{k} ordered coprime pairs (a,b), and because n! is not a square (unless for example primes with even exponents), it depends. As with N! for N>1.\n",
      "\n",
      "Wait, for N >=2, N! has primes p <= N. The multiplicities (exponents) can be even or odd, but sqrt(N!) is irrational unless all exponents are even. But which cannot happen because, for instance, prime number p_0 (which appears once in N! for primes N/2 < p_0 <=N). For example, primes between N/2 and N cannot come in pairs. So hence exponents for primes bigger than N/2 will be 1. Therefore, odd. Hence sqrt(N!) is not integer. Hence N! is not a square. Therefore, the number of divisors N! So, accordingly, the number of such co-prime pairs is 2^{k} with k primes, leading to 2^k ordered pairs. Thus, the number of unordered pairs, accounting for swapping a and b, is 2^{k-1}. So for N =6, with three primes, 2^(3 -1)=4, which matches what we saw for 720.\n",
      "\n",
      "Therefore, back to the original problem. It's 2^{8-1}=128. Thus the answer is 128. Hence, the answer is 128?\n",
      "\n",
      "But to confirm this, perhaps think again. The question is a bit more precise: it says that the original rational number between 0 and 1 is written in reduced form, and you multiply numerator and denominator (from reduced form), and that product is equal to 20!. <keep>So that equivalent to saying find all reduced fractions a/b where 0 < a/b <1 and a*b=20!. Hence, equivalent to coprime pairs (a,b) with a*b=20! and a < b.</keep>\n",
      "\n",
      "Thus previous logic applies; each such pair is obtained by assignment of primes to a or b, since a and b need to be coprime. Assign each prime of 20! to either a or b. So 8 primes in 20! Each has two choices. Hence no. of pairs (a,b), ordered is 2^8=256. Since none of the ordered have pairs a=b, each unordered pair is counted as (a,b) and (b,a). The number with a < b is half of the total pairs, so 256/2 =128. Hence 128 such numbers. Therefore, The answer is 128, corresponding to \\boxed{128}?  Or wait, wait prime factors of 20! Are 8 primes, 2,3,5,7,11,13,17,19. So 8, so k=8. so answer is 2^(8-1)=128.\n",
      "\n",
      "<keep>Does that make sense?</keep>\n",
      "\n",
      "But wait, an alternative approach: suppose we recognize that each coprime pair (a,b) with a*b = N is equivalent to choosing a subset S of the prime factors of N, hence product(a)= product of primes in S (with exponents in N's prime factorization), which requires multiplicativity. For each prime p | N, assign all the exponents in p to a or to b, but not both, since a and b must be coprime.\n",
      "\n",
      "Thus, since N=20! has prime factors each occurring to some exponent. Each prime can be assigned to a or to b therefore 2^k combinations. Here k is 8. Each combination defines an ordered pair (a,b). If a < b, then we want the number of assignments where the product a < b. <keep>But since N is fixed, that is a < N /a, so a^2 <N. But is there a simple relation between the subset of primes assigned to a and whether a < sqrt(N)?</keep>\n",
      "\n",
      "No, not really even, as a could be a product of different primes, and how that relates?  For example, consider assigning the small primes to a; that would make a big but depending on which primes. But here is the crux: instead of trying to group, this is again difficult to calculate by separate method; but via generating the coprimality by prime division, and noting in N! is fixed, so that the only way to a*b=N!:\n",
      "\n",
      "Since a and b are coprime.\n",
      "\n",
      "Hence equivalence between choices over subsets of primes.\n",
      "\n",
      "<keep>Hence, since ordered coprimes, 2^pairs.</keep>\n",
      "\n",
      "Each with a Unique Subsets of primes assigned to a.\n",
      "\n",
      "Hence, since ordering for each subset, half will be such that the a is less than b.\n",
      "\n",
      "<keep>Hence if done for k primes, because N! is not a square, then exactly half of those subsets gives a*a less than N! , that is, a < sqrt(N!).</keep>\n",
      "\n",
      "But for all possible assignments, the total number of cases where a < b should be equal to 2^{k-1} as reasoned before.\n",
      "\n",
      "Therefore, the previous answer 128 must be correct, hence The answer would be 128.\n",
      "\n",
      "<keep>But before  closing, verifying with our 6! example was key.</keep>\n",
      "\n",
      "In the 6! example (k=3 primes), number of coprime pairs with a < b=4=2^{3-1}.\n",
      "\n",
      "And with actual calculation matching.\n",
      "\n",
      "<keep>Therefore, Conclusion:</keep>\n",
      "\n",
      "The number of rational numbers between 0 and 1 such that when written in lowest terms as a/b, the product of numerator and denominator is 20!=1×2×3...×20 is given by 2^{number of prime factors of 20! -1} =2^{8-1}=128.\n",
      "\n",
      "**Final Answer**\n",
      "\\boxed{128}\n",
      "\n",
      "\n",
      "\n"
     ]
    }
   ],
   "source": [
    "def insert_keep_text_at_eop(text, config: dict = {}):\n",
    "    default_config = {\n",
    "        'k': 3,\n",
    "        'min_p_length': 300\n",
    "    }\n",
    "    if len(config) == 0:\n",
    "        config = default_config\n",
    "    else:\n",
    "        config = {**default_config, **config}\n",
    "    # Wrap the last sentence of every paragraph with length larger than min_p_length with <keep> tags.\n",
    "    paragraphs = text.split('\\n\\n')\n",
    "    text_wrapped = ''\n",
    "    ct_para = 0\n",
    "    ct_sen = 0\n",
    "    for paragraph in paragraphs:\n",
    "        if len(paragraph) > config['min_p_length']:\n",
    "            if ct_para % config['k'] == 0:\n",
    "                # Wrap the last sentence of the paragraph with <keep> tags.\n",
    "                # Assume new sentences start with a capital letter\n",
    "                wrapped_paragraph = return_para_w_last_sentence_wrapped(paragraph, last_n_sentences=2)\n",
    "                text_wrapped += wrapped_paragraph\n",
    "            else:\n",
    "                text_wrapped += paragraph + '\\n\\n'\n",
    "            ct_para += 1\n",
    "        else:\n",
    "            if ct_sen % config['k'] == 0:\n",
    "                wrapped_paragraph = return_para_w_last_sentence_wrapped(paragraph, last_n_sentences=1)\n",
    "                text_wrapped += wrapped_paragraph\n",
    "            else:\n",
    "                text_wrapped += paragraph + '\\n\\n'\n",
    "            ct_sen += 1\n",
    "\n",
    "    return text_wrapped\n",
    "\n",
    "def insert_keep_text(text, strategy: str ='eop', config: dict = None):\n",
    "    if config is None:\n",
    "        config = {}\n",
    "    if strategy == 'eop':\n",
    "        return insert_keep_text_at_eop(text, config)\n",
    "    else:\n",
    "        raise ValueError(f\"Invalid strategy: {strategy}\")\n",
    "\n",
    "print(insert_keep_text(test_trace, 'eop', {}))"
   ]
  },
  {
   "cell_type": "code",
   "execution_count": 8,
   "metadata": {},
   "outputs": [],
   "source": [
    "# verify that the wrapped text without keep tags is the same as the original text\n",
    "def remove_keep_text(text):\n",
    "    return text.replace('</keep>', '').replace('<keep>', '')\n",
    "\n",
    "assert remove_keep_text(insert_keep_text(test_trace, 'eop', {})).strip() == test_trace.strip()"
   ]
  },
  {
   "cell_type": "markdown",
   "metadata": {},
   "source": [
    "# Prompting"
   ]
  },
  {
   "cell_type": "code",
   "execution_count": 9,
   "metadata": {},
   "outputs": [],
   "source": [
    "prompt = \"\"\"\n",
    "You are Deepseek, an expert reasoning Large Language Model. Your task is to assist in optimizing reasoning outputs by indicating which tokens are essential for future reasoning steps.\n",
    "\n",
    "Currently, reasoning models often wrap their thought process within <think> and </think> tags. However, this approach can lead to unnecessarily long contexts, as many tokens included might not be crucial for subsequent reasoning.\n",
    "\n",
    "To improve this, in addition to the existing <think> ... </think> tags (which denote the overall reasoning process), you will identify and mark specific tokens to preserve using <keep> and </keep> tags. These <keep> tags explicitly highlight tokens essential for the next steps of reasoning.\n",
    "\n",
    "Your process:\n",
    "\n",
    "1. Read the provided question and pre-existing reasoning trace.\n",
    "\n",
    "2. Consider carefully: \"If I continue this reasoning, which tokens must be retained?\"\n",
    "\n",
    "3. Clearly indicate the exact locations for inserting <keep> and </keep> tags around tokens necessary for further generation.\n",
    "\n",
    "Important: Be selective in choosing which tokens to wrap with <keep> tags. Strive for a balanced approach—avoid marking too few tokens, which may omit critical information, and avoid marking too many, which could reduce efficiency.\n",
    "\n",
    "Output Format:\n",
    "\n",
    "- Provide your selections clearly by indicating the paragraph number and the sentence number for each token or token group to retain. For example:\n",
    "\n",
    "    - Paragraph 2, Sentence 3: <keep>essential tokens</keep>\n",
    "\n",
    "- Ensure the text between <keep> and </keep> tags exactly matches the original text. Do not alter or paraphrase any tokens.\n",
    "\n",
    "- Ensure the text between <keep> and </keep> tags is at least one complete sentence or phrase. You may include multiple sentences or phrases if they are closely related.\n",
    "\n",
    "This method simulates efficient reasoning by focusing on essential tokens, optimizing context usage.\n",
    "\"\"\"\n",
    "\n",
    "def get_prompt_messsages(question, deepseek_thinking_trajectory):\n",
    "    n_para = deepseek_thinking_trajectory.count('\\n\\n')\n",
    "    user_prompt = f\"\"\"\n",
    "    # Question:\n",
    "    {question}\n",
    "\n",
    "    # Deepseek Thinking Trajectory:\n",
    "    {deepseek_thinking_trajectory}\n",
    "\n",
    "    You must output at least {n_para // 5} blocks of kept text.\n",
    "    \"\"\"\n",
    "\n",
    "    return [\n",
    "        {\"role\": \"system\", \"content\": prompt},\n",
    "        {\"role\": \"user\", \"content\": user_prompt},\n",
    "    ]"
   ]
  },
  {
   "cell_type": "code",
   "execution_count": 10,
   "metadata": {},
   "outputs": [],
   "source": [
    "import os\n",
    "from openai import OpenAI\n",
    "\n",
    "client_nebius = OpenAI(\n",
    "      base_url=\"https://api.studio.nebius.com/v1/\",\n",
    "      api_key=os.getenv('NEBIUS_API_KEY')\n",
    "  )\n",
    "\n",
    "def generate_response_nebius(client, messages, stream=False, verbose=False):\n",
    "  response = client.chat.completions.create(\n",
    "      model=\"deepseek-ai/DeepSeek-R1\",\n",
    "      max_tokens=16384,\n",
    "      temperature=0.9,\n",
    "      top_p=0.95,\n",
    "      messages=messages,\n",
    "      stream=stream\n",
    "  )\n",
    "\n",
    "  if stream:\n",
    "      completion = \"\"\n",
    "      for token in response:\n",
    "        if hasattr(token, 'choices'):\n",
    "            completion += token.choices[0].delta.content\n",
    "            if verbose:\n",
    "              print(token.choices[0].delta.content, end='', flush=True)\n",
    "      return completion\n",
    "  else:\n",
    "    return response.choices[0].message.content"
   ]
  },
  {
   "cell_type": "markdown",
   "metadata": {},
   "source": [
    "# Keep Text Parsing"
   ]
  },
  {
   "cell_type": "code",
   "execution_count": 11,
   "metadata": {},
   "outputs": [],
   "source": [
    "import editdistance\n",
    "from matplotlib import pyplot as plt\n",
    "import numpy as np\n",
    "with open('ex_keep_output.txt', 'r') as f:\n",
    "    ex_keep_output = f.read()\n",
    "with open('test_t.txt','r') as f:\n",
    "    test_trace = f.read()\n",
    "\n",
    "def extract_keep_text(ex_keep_output) -> list[str]:\n",
    "    return re.findall(r': <keep>(.*?)</keep>', ex_keep_output)\n",
    "\n",
    "def extract_keep_text_from_response(response: str) -> list[str]:\n",
    "    return re.findall(r'<keep>(.*?)</keep>', response)\n",
    "\n",
    "keep_texts = extract_keep_text(ex_keep_output)\n",
    "\n",
    "def check_keep_text(keep_text: list[str], test_trace: str) -> bool:\n",
    "    # At most 10% of the texts can be missing\n",
    "    missing_texts = 0\n",
    "    for text in keep_text:\n",
    "        if text not in test_trace:\n",
    "            missing_texts += 1\n",
    "    # print(f'{missing_texts} / {len(keep_text)} = {missing_texts / max(len(keep_text), 1)} missing texts')\n",
    "    return missing_texts <= len(keep_text) * 0.1\n",
    "\n",
    "check_keep_text(keep_texts, test_trace)\n",
    "\n",
    "# Use word edit distance to check for close substrings\n",
    "def word_edit_distance(text1: str, text2: str) -> int:\n",
    "    return editdistance.eval(text1, text2)\n",
    "\n",
    "\n",
    "def filter_keep_texts(keep_texts: list[str], test_trace: str) -> list[str]:\n",
    "    # Filter out keep texts that aren't similar enough to the test trace\n",
    "    valid_keep_texts = []\n",
    "    for text in keep_texts:\n",
    "        if text not in test_trace:\n",
    "            # Find the closest match using word edit distance\n",
    "            closest_match = min([test_trace[a:a+len(text)] for a in range(len(test_trace))], key=lambda x: word_edit_distance(text, x))\n",
    "\n",
    "            # Only pick closest match if edit distance is more than 9 standard deviations from the mean or if there are less than 10 keep texts\n",
    "            std = np.std([word_edit_distance(text, test_trace[i:i+len(text)]) for i in range(len(test_trace))])\n",
    "            mean = np.mean([word_edit_distance(text, test_trace[i:i+len(text)]) for i in range(len(test_trace))])\n",
    "            deviation = abs(word_edit_distance(text, closest_match) - mean)\n",
    "            if deviation > 9 * std or len(keep_texts) < 10:\n",
    "                valid_keep_texts.append(closest_match)\n",
    "        else:\n",
    "            valid_keep_texts.append(text)\n",
    "    proportion_kept = len(valid_keep_texts) / max(len(keep_texts), 1)\n",
    "    return valid_keep_texts, proportion_kept\n",
    "\n",
    "valid_keep_texts, proportion_kept = filter_keep_texts(keep_texts, test_trace)\n",
    "# print(f'Proportion of keep texts kept: {proportion_kept}')\n",
    "assert check_keep_text(valid_keep_texts, test_trace)"
   ]
  },
  {
   "cell_type": "code",
   "execution_count": 12,
   "metadata": {},
   "outputs": [],
   "source": [
    "# Insert Keep tags\n",
    "\n",
    "def insert_keep_tags(text: str, keep_texts: list[str], debug: bool = False) -> str:\n",
    "    keep_indices = set()\n",
    "    for keep_text in keep_texts:\n",
    "        # If the keep tag splits a word, we offset the keep tag to include the entire word\n",
    "        # Find the first instance of the keep text in the text\n",
    "        start_idx = text.find(keep_text)\n",
    "        if start_idx != -1:\n",
    "            # Find the last instance of the keep text in the text\n",
    "            end_idx = start_idx + len(keep_text)\n",
    "            # If the keep tag splits a word, we offset the keep tag to include the entire word\n",
    "            for i in range(6):\n",
    "                if start_idx > 0 and text[start_idx-1].isalnum() and text[start_idx].isalnum():\n",
    "                    start_idx -= 1\n",
    "                else:\n",
    "                    break\n",
    "            for i in range(6):\n",
    "                if end_idx < len(text) and text[end_idx].isalnum() and text[end_idx+1].isalnum():\n",
    "                    end_idx += 1\n",
    "                else:\n",
    "                    break\n",
    "            # if abs(start_idx - end_idx) < 5:\n",
    "            #     print(\"Skipping keep tag due to short length: \", text[start_idx:end_idx])\n",
    "            #     continue\n",
    "            keep_indices = keep_indices.union(list(range(start_idx, end_idx+1)))\n",
    "\n",
    "            # text = text[:start_idx] + f'<keep>{text[start_idx:end_idx]}</keep>' + text[end_idx:]\n",
    "\n",
    "    keep_indices = sorted(list(keep_indices))\n",
    "    if len(keep_indices) == 0:\n",
    "        return text\n",
    "    keep_chunks = []\n",
    "    start_chunk = keep_indices[0]\n",
    "    prev = keep_indices[0]\n",
    "    start_keep_offset = 6\n",
    "    end_keep_offset = 7\n",
    "    if len(keep_indices) > 1:\n",
    "        for i in keep_indices[1:]:\n",
    "            if i == prev + 1:\n",
    "                prev = i\n",
    "            else:\n",
    "                keep_chunks.append(list(range(start_chunk, prev+1)))\n",
    "                start_chunk = i\n",
    "                prev = i\n",
    "        keep_chunks.append(list(range(start_chunk, prev+1)))\n",
    "\n",
    "    offset = 0\n",
    "    for chunk in keep_chunks:\n",
    "        text = text[:chunk[0]+offset] + f'<keep>{text[chunk[0]+offset:chunk[-1]+offset]}</keep>' + text[chunk[-1]+offset:]\n",
    "        offset += end_keep_offset + start_keep_offset\n",
    "    return text\n",
    "\n",
    "text_w_keep_tags = insert_keep_tags(test_trace, valid_keep_texts)\n",
    "# ensure stripped text is the same as the original text\n",
    "assert remove_keep_text(text_w_keep_tags).strip() == test_trace.strip()"
   ]
  },
  {
   "cell_type": "code",
   "execution_count": 13,
   "metadata": {},
   "outputs": [],
   "source": [
    "# The whole output processing\n",
    "\n",
    "def process_keep_additions(response: str, test_trace: str) -> str:\n",
    "    keep_texts = extract_keep_text(response)\n",
    "    valid_keep_texts, proportion_kept = filter_keep_texts(keep_texts, test_trace)\n",
    "    # print(f'Proportion of keep texts kept: {proportion_kept}')\n",
    "    assert check_keep_text(valid_keep_texts, test_trace)\n",
    "    text_w_keep_tags = insert_keep_tags(test_trace, valid_keep_texts)\n",
    "    return text_w_keep_tags\n",
    "\n"
   ]
  },
  {
   "cell_type": "markdown",
   "metadata": {},
   "source": [
    "# Synchronous call"
   ]
  },
  {
   "cell_type": "code",
   "execution_count": 14,
   "metadata": {},
   "outputs": [
    {
     "name": "stderr",
     "output_type": "stream",
     "text": [
      "huggingface/tokenizers: The current process just got forked, after parallelism has already been used. Disabling parallelism to avoid deadlocks...\n",
      "To disable this warning, you can either:\n",
      "\t- Avoid using `tokenizers` before the fork if possible\n",
      "\t- Explicitly set the environment variable TOKENIZERS_PARALLELISM=(true | false)\n",
      "100%|██████████| 1000/1000 [00:00<00:00, 37443.46it/s]\n"
     ]
    }
   ],
   "source": [
    "import os\n",
    "from tqdm import tqdm\n",
    "\n",
    "s1_df = pd.read_parquet(\"hf://datasets/simplescaling/s1K-1.1/data/train-00000-of-00001.parquet\")\n",
    "s1_responses_dir = 'responses'\n",
    "s1_questions = s1_df['question'].tolist()\n",
    "s1_deepseek_thinking_trajectories = s1_df['deepseek_thinking_trajectory'].tolist()\n",
    "\n",
    "s1_responses = []\n",
    "for i, (question, deepseek_thinking_trajectory) in tqdm(enumerate(zip(s1_questions, s1_deepseek_thinking_trajectories)), total=len(s1_questions)):\n",
    "    if not os.path.exists(f'{s1_responses_dir}/{i}/'):\n",
    "        os.makedirs(f'{s1_responses_dir}/{i}/')\n",
    "    filename = f'{s1_responses_dir}/{i}/first_run.txt'\n",
    "    if os.path.exists(filename):\n",
    "        with open(filename, 'r') as f:\n",
    "            response = f.read()\n",
    "            s1_responses.append(response)\n",
    "    else:\n",
    "        raise ValueError(\"File should exist.\")\n"
   ]
  },
  {
   "cell_type": "code",
   "execution_count": 15,
   "metadata": {},
   "outputs": [],
   "source": [
    "s1_id = list(range(len(s1_responses)))"
   ]
  },
  {
   "cell_type": "code",
   "execution_count": 16,
   "metadata": {},
   "outputs": [],
   "source": [
    "s1_df = pd.DataFrame({\n",
    "    'id': s1_id,\n",
    "    'question': s1_questions,\n",
    "    'reasoning': s1_deepseek_thinking_trajectories,\n",
    "    'response': s1_responses\n",
    "})\n"
   ]
  },
  {
   "cell_type": "code",
   "execution_count": 17,
   "metadata": {},
   "outputs": [
    {
     "name": "stderr",
     "output_type": "stream",
     "text": [
      "100%|██████████| 12425/12425 [00:01<00:00, 10243.24it/s]\n"
     ]
    }
   ],
   "source": [
    "import asyncio\n",
    "from tqdm.asyncio import tqdm as atqdm\n",
    "\n",
    "# Update process_question to use the async version\n",
    "async def process_question(id, question, deepseek_thinking_trajectory, semaphore, responses_dir):\n",
    "    async with semaphore:\n",
    "        id_index = id.split('--')[0]\n",
    "        problem_id = id.split('--')[1]\n",
    "\n",
    "        if not os.path.exists(f'{responses_dir}/{problem_id}/'):\n",
    "            os.makedirs(f'{responses_dir}/{problem_id}/')\n",
    "        \n",
    "        filename = f'{responses_dir}/{problem_id}/{id_index}.txt'\n",
    "        if os.path.exists(filename):\n",
    "            with open(filename, 'r') as f:\n",
    "                response = f.read()\n",
    "        else:\n",
    "            raise ValueError(\"File should exist.\")\n",
    "        \n",
    "        # print(f'Returning response for completion {id}')\n",
    "        return response\n",
    "\n",
    "\n",
    "    \n",
    "responses_dir = 'math_traces'\n",
    "if not os.path.exists(responses_dir):\n",
    "    os.makedirs(responses_dir)\n",
    "\n",
    "prob_df = pd.read_csv(\"traces.csv\")\n",
    "aimo_reasoning = prob_df[\"reasoning\"]\n",
    "aimo_questions = prob_df[\"problem\"]\n",
    "aimo_ids = prob_df[\"id\"]\n",
    "\n",
    "semaphore = asyncio.Semaphore(50)\n",
    "tasks = []\n",
    "\n",
    "for (question, deepseek_thinking_trajectory, id) in zip(aimo_questions, aimo_reasoning, aimo_ids):\n",
    "    task = asyncio.create_task(\n",
    "        process_question(id, question, deepseek_thinking_trajectory, semaphore, responses_dir)\n",
    "    )\n",
    "    tasks.append(task)\n",
    "\n",
    "aimo_responses = await atqdm.gather(*tasks)"
   ]
  },
  {
   "cell_type": "code",
   "execution_count": 18,
   "metadata": {},
   "outputs": [],
   "source": [
    "aimo_df = pd.DataFrame({\n",
    "    'id': aimo_ids,\n",
    "    'question': aimo_questions,\n",
    "    'reasoning': aimo_reasoning,\n",
    "    'response': aimo_responses\n",
    "})\n"
   ]
  },
  {
   "cell_type": "code",
   "execution_count": 19,
   "metadata": {},
   "outputs": [
    {
     "data": {
      "text/plain": [
       "Index(['question', 'deepseek_thinking_trajectory', 'response'], dtype='object')"
      ]
     },
     "execution_count": 19,
     "metadata": {},
     "output_type": "execute_result"
    }
   ],
   "source": [
    "import asyncio\n",
    "from tqdm.asyncio import tqdm as atqdm\n",
    "\n",
    "openr1_df = pd.read_csv(\"open_r1_traces_with_tag_responses.csv\")\n",
    "openr1_orig_df = pd.read_csv(\"open_r1_traces.csv\")\n",
    "openr1_df.columns"
   ]
  },
  {
   "cell_type": "code",
   "execution_count": 20,
   "metadata": {},
   "outputs": [],
   "source": [
    "openr1_df[\"id\"] = openr1_orig_df[\"id\"]\n",
    "openr1_df.rename(columns={\"deepseek_thinking_trajectory\": \"reasoning\"}, inplace=True)"
   ]
  },
  {
   "cell_type": "code",
   "execution_count": 21,
   "metadata": {},
   "outputs": [],
   "source": [
    "dpo_df = pd.concat([aimo_df, s1_df, openr1_df], ignore_index=True)"
   ]
  },
  {
   "cell_type": "code",
   "execution_count": 23,
   "metadata": {},
   "outputs": [
    {
     "data": {
      "text/plain": [
       "42549"
      ]
     },
     "execution_count": 23,
     "metadata": {},
     "output_type": "execute_result"
    }
   ],
   "source": [
    "mask = dpo_df['response'].apply(lambda x: '<keep>' in x and '</keep>' in x and x.index('<keep>') < x.index('</keep>'))\n",
    "dpo_df = dpo_df[mask]\n",
    "len(dpo_df)\n"
   ]
  },
  {
   "cell_type": "code",
   "execution_count": 24,
   "metadata": {},
   "outputs": [
    {
     "data": {
      "application/vnd.jupyter.widget-view+json": {
       "model_id": "c4662aea62624111adce9a2d1bf41f43",
       "version_major": 2,
       "version_minor": 0
      },
      "text/plain": [
       "Processing tagged responses (num_proc=14):   0%|          | 0/42549 [00:00<?, ? examples/s]"
      ]
     },
     "metadata": {},
     "output_type": "display_data"
    }
   ],
   "source": [
    "\n",
    "\n",
    "# use dataset.map to do this\n",
    "from datasets import Dataset\n",
    "\n",
    "# Convert to a Hugging Face Dataset for efficient processing\n",
    "dataset = Dataset.from_dict({\n",
    "    'response': dpo_df['response'],\n",
    "    'reasoning': dpo_df['reasoning']\n",
    "})\n",
    "\n",
    "# Define a function to process each example\n",
    "def process_example(example):\n",
    "    return {\n",
    "        'tagged_response': process_keep_additions(\n",
    "            example['response'], \n",
    "            example['reasoning']\n",
    "        )\n",
    "    }\n",
    "\n",
    "# Process all examples using dataset.map\n",
    "processed_dataset = dataset.map(\n",
    "    process_example,\n",
    "    desc=\"Processing tagged responses\",\n",
    "    num_proc=14  # Adjust based on your CPU cores\n",
    ")\n",
    "\n",
    "# Extract the processed tagged responses\n",
    "tagged_responses = processed_dataset['tagged_response']\n",
    "\n",
    "# s1_df['ds_tagged_response'] = tagged_responses\n"
   ]
  },
  {
   "cell_type": "code",
   "execution_count": 25,
   "metadata": {},
   "outputs": [],
   "source": [
    "processed_df = processed_dataset.to_pandas()"
   ]
  },
  {
   "cell_type": "code",
   "execution_count": 26,
   "metadata": {},
   "outputs": [],
   "source": [
    "dpo_df = dpo_df.merge(processed_df, on='reasoning', how='inner')"
   ]
  },
  {
   "cell_type": "code",
   "execution_count": 28,
   "metadata": {},
   "outputs": [],
   "source": [
    "dpo_df.to_csv('dpo_df.csv', index=False)"
   ]
  },
  {
   "cell_type": "code",
   "execution_count": 75,
   "metadata": {},
   "outputs": [],
   "source": [
    "dpo_df = pd.read_csv('dpo_df.csv')"
   ]
  },
  {
   "cell_type": "code",
   "execution_count": 29,
   "metadata": {},
   "outputs": [
    {
     "data": {
      "image/png": "[encoded data removed]",
      "text/plain": [
       "<Figure size 640x480 with 1 Axes>"
      ]
     },
     "metadata": {},
     "output_type": "display_data"
    }
   ],
   "source": [
    "import math\n",
    "import matplotlib.pyplot as plt\n",
    "plt.hist([abs(len(t)-len(r)) for t, r in zip(dpo_df['reasoning'], dpo_df['tagged_response'])], bins=100)\n",
    "plt.show()"
   ]
  },
  {
   "cell_type": "code",
   "execution_count": 30,
   "metadata": {},
   "outputs": [],
   "source": [
    "equal_indices = dpo_df['reasoning'].apply(lambda x: x[:30]) == dpo_df['tagged_response'].apply(lambda x: x[:30])"
   ]
  },
  {
   "cell_type": "code",
   "execution_count": 31,
   "metadata": {},
   "outputs": [],
   "source": [
    "dpo_df['diff'] = [abs(len(t)-len(r)) for t, r in zip(dpo_df['reasoning'], dpo_df['tagged_response'])]"
   ]
  },
  {
   "cell_type": "code",
   "execution_count": 32,
   "metadata": {},
   "outputs": [],
   "source": [
    "# drop exact matches\n",
    "mask = dpo_df.apply(lambda row: len(row['reasoning'])==len(row['tagged_response']), axis=1)"
   ]
  },
  {
   "cell_type": "code",
   "execution_count": 33,
   "metadata": {},
   "outputs": [],
   "source": [
    "dpo_df = dpo_df[~mask]"
   ]
  },
  {
   "cell_type": "code",
   "execution_count": 34,
   "metadata": {},
   "outputs": [
    {
     "data": {
      "text/plain": [
       "837"
      ]
     },
     "execution_count": 34,
     "metadata": {},
     "output_type": "execute_result"
    }
   ],
   "source": [
    "sum(mask)"
   ]
  },
  {
   "cell_type": "code",
   "execution_count": 35,
   "metadata": {},
   "outputs": [
    {
     "data": {
      "text/plain": [
       "<Axes: >"
      ]
     },
     "execution_count": 35,
     "metadata": {},
     "output_type": "execute_result"
    },
    {
     "data": {
      "image/png": "[encoded data removed]",
      "text/plain": [
       "<Figure size 640x480 with 1 Axes>"
      ]
     },
     "metadata": {},
     "output_type": "display_data"
    }
   ],
   "source": [
    "dpo_df['diff'].hist(bins=100)"
   ]
  },
  {
   "cell_type": "code",
   "execution_count": 36,
   "metadata": {},
   "outputs": [
    {
     "data": {
      "text/plain": [
       "\"Okay, so I need to find the minimum positive integer \\\\( n \\\\geq 3 \\\\) such that there exist \\\\( n \\\\) points \\\\( A_1, A_2, \\\\ldots, A_n \\\\) with no three points collinear. <keep>Additionally, for each point \\\\( A_i \\\\), there must be another point \\\\( A_j \\\\) (where \\\\( j \\\\neq i \\\\)) such that the segment \\\\( A_jA_{j+1} \\\\) passes through the midpoint of segment \\\\( A_iA_{i+1} \\\\).</keep> Also, \\\\( A_{n+1} = A_1 \\\\), so the points are arranged in a cycle.\\n\\nFirst, I'll try to visualize the problem. We have a polygon (since the points are in a cycle) with no three points on the same line. For each edge of this polygon, the midpoint of that edge must lie on another edge of the polygon.\\n\\nLet me start by testing small values of \\\\( n \\\\) to see if such a configuration is possible.\\n\\n**Case 1: \\\\( n = 3 \\\\) (Triangle)**\\n\\nFor a triangle, each edge has a midpoint. We need each midpoint to lie on another edge. But in a triangle, each edge is a side, and the midpoints are the centers of each side. <keep>However, in a triangle, the midpoints of the sides do not lie on any other side unless the triangle is degenerate, which is not allowed here because no three points are collinear.</keep> So, for \\\\( n = 3 \\\\), it's impossible.\\n\\n**Case 2: \\\\( n = 4 \\\\) (Quadrilateral)**\\n\\nLet's consider a convex quadrilateral. Each edge has a midpoint, and we need each midpoint to lie on another edge.\\n\\nSuppose we have a convex quadrilateral \\\\( A_1A_2A_3A_4 \\\\). Let me denote the midpoints as \\\\( M_1, M_2, M_3, M_4 \\\\), where \\\\( M_i \\\\) is the midpoint of \\\\( A_iA_{i+1} \\\\).\\n\\nWe need each \\\\( M_i \\\\) to lie on another edge \\\\( A_jA_{j+1} \\\\). Let's see if this is possible.\\n\\n<keep>In a convex quadrilateral, the midpoints of the sides form a parallelogram, known as the Varignon parallelogram. But in this case, we need each midpoint to lie on another side of the quadrilateral, not just form a parallelogram.</keep>\\n\\nIs there a convex quadrilateral where each midpoint lies on another side?\\n\\nLet me think about specific quadrilaterals. For example, a square. <keep>In a square, the midpoints of the sides are the centers of each side, which do not lie on any other side. So a square doesn't work.</keep>\\n\\nWhat about a rectangle? Similarly, the midpoints don't lie on other sides.\\n\\nWhat about a parallelogram? In a parallelogram, the midpoints of the sides are the intersection point of the diagonals, which is the center. But each midpoint is the same point, so each midpoint would lie on both diagonals, but the edges are the sides. So, in a parallelogram, the midpoints don't lie on the edges, except if it's a degenerate parallelogram, which is a line, but that's not allowed.\\n\\nAlternatively, maybe a non-convex quadrilateral? Let's consider a concave quadrilateral.\\n\\nIn a concave quadrilateral, one of the internal angles is greater than 180 degrees. Maybe the midpoints can lie on other edges.\\n\\nBut even in a concave quadrilateral, the midpoints of the sides are still not on the other sides unless the quadrilateral is designed specifically.\\n\\nWait, perhaps if we have a trapezoid. Let me think about an isosceles trapezoid. In an isosceles trapezoid, the midpoints of the non-parallel sides might lie on the line connecting the midpoints of the bases, but not necessarily on another side.\\n\\nAlternatively, maybe a kite. In a kite, two pairs of adjacent sides are equal. The midpoints might lie somewhere, but again, not necessarily on another side.\\n\\nAlternatively, perhaps if we construct a quadrilateral where each midpoint is on another edge. Let me try to construct such a quadrilateral.\\n\\nSuppose we have points \\\\( A_1, A_2, A_3, A_4 \\\\) arranged such that the midpoint of \\\\( A_1A_2 \\\\) is on \\\\( A_3A_4 \\\\), the midpoint of \\\\( A_2A_3 \\\\) is on \\\\( A_4A_1 \\\\), and so on.\\n\\nBut in such a case, we have four midpoints, each needing to lie on another edge. However, each edge can only contain two midpoints (if each edge can contain two midpoints). But we have four midpoints, so each edge would need to contain exactly one midpoint. But is this possible?\\n\\nWait, each edge is a side of the quadrilateral, and each edge can only be intersected by two midpoints (from the two adjacent edges). But in a quadrilateral, each edge is adjacent to two other edges, so each edge's midpoint lies on another edge.\\n\\nWait, maybe I need to set it up so that each edge's midpoint lies on the opposite edge.\\n\\nIn a quadrilateral, each edge has an opposite edge. <keep>So, for example, the midpoint of \\\\( A_1A_2 \\\\) lies on \\\\( A_3A_4 \\\\), and the midpoint of \\\\( A_2A_3 \\\\) lies on \\\\( A_4A_1 \\\\), etc.</keep>\\n\\nIs this possible?\\n\\nLet me try to assign coordinates to the points to see if such a quadrilateral can exist.\\n\\nLet me set coordinates for simplicity. Let me place \\\\( A_1 \\\\) at \\\\( (0, 0) \\\\), \\\\( A_2 \\\\) at \\\\( (2a, 0) \\\\), \\\\( A_3 \\\\) at \\\\( (2b, 2c) \\\\), and \\\\( A_4 \\\\) at \\\\( (2d, 2e) \\\\). I'm doubling the coordinates so that midpoints will have integer coordinates, which might simplify calculations.\\n\\nThen, the midpoints would be:\\n\\n- Midpoint of \\\\( A_1A_2 \\\\): \\\\( (a, 0) \\\\)\\n- Midpoint of \\\\( A_2A_3 \\\\): \\\\( (a + b, c) \\\\)\\n- Midpoint of \\\\( A_3A_4 \\\\): \\\\( (b + d, c + e) \\\\)\\n- Midpoint of \\\\( A_4A_1 \\\\): \\\\( (d, e) \\\\)\\n\\nNow, these midpoints need to lie on the opposite edges.\\n\\nSo, midpoint \\\\( (a, 0) \\\\) should lie on \\\\( A_3A_4 \\\\). The equation of line \\\\( A_3A_4 \\\\) is from \\\\( (2b, 2c) \\\\) to \\\\( (2d, 2e) \\\\).\\n\\nParametric equation: \\\\( x = 2b + t(2d - 2b) \\\\), \\\\( y = 2c + t(2e - 2c) \\\\), where \\\\( t \\\\) is between 0 and 1.\\n\\nSo, we need \\\\( (a, 0) \\\\) to satisfy this for some \\\\( t \\\\).\\n\\nSo,\\n\\n\\\\( a = 2b + t(2d - 2b) \\\\)\\n\\n\\\\( 0 = 2c + t(2e - 2c) \\\\)\\n\\nFrom the second equation:\\n\\n\\\\( 0 = 2c + t(2e - 2c) \\\\)\\n\\nDivide both sides by 2:\\n\\n\\\\( 0 = c + t(e - c) \\\\)\\n\\nSo,\\n\\n\\\\( t = -c / (e - c) \\\\)\\n\\nBut \\\\( t \\\\) must be between 0 and 1 because it's a point on the segment \\\\( A_3A_4 \\\\).\\n\\nSimilarly, from the first equation:\\n\\n\\\\( a = 2b + t(2d - 2b) \\\\)\\n\\nSubstitute \\\\( t \\\\):\\n\\n\\\\( a = 2b + (-c / (e - c))(2d - 2b) \\\\)\\n\\nSimplify:\\n\\n\\\\( a = 2b - (2c(d - b))/(e - c) \\\\)\\n\\nSimilarly, midpoint \\\\( (a + b, c) \\\\) should lie on \\\\( A_4A_1 \\\\), which is from \\\\( (2d, 2e) \\\\) to \\\\( (0, 0) \\\\).\\n\\nEquation of \\\\( A_4A_1 \\\\): parametric form \\\\( x = 2d - 2d s \\\\), \\\\( y = 2e - 2e s \\\\), where \\\\( s \\\\) is between 0 and 1.\\n\\nSo,\\n\\n\\\\( a + b = 2d(1 - s) \\\\)\\n\\n\\\\( c = 2e(1 - s) \\\\)\\n\\nFrom the second equation:\\n\\n\\\\( c = 2e(1 - s) \\\\)\\n\\nSo,\\n\\n\\\\( 1 - s = c / (2e) \\\\)\\n\\nThus,\\n\\n\\\\( s = 1 - c / (2e) \\\\)\\n\\nFrom the first equation:\\n\\n\\\\( a + b = 2d(1 - s) = 2d(c / (2e)) = (2d c) / (2e) = (d c)/e \\\\)\\n\\nSo,\\n\\n\\\\( a + b = (d c)/e \\\\)\\n\\nSimilarly, midpoint \\\\( (b + d, c + e) \\\\) should lie on \\\\( A_1A_2 \\\\), which is the x-axis from \\\\( (0,0) \\\\) to \\\\( (2a, 0) \\\\).\\n\\nSo, \\\\( (b + d, c + e) \\\\) must lie on the x-axis, so its y-coordinate must be 0.\\n\\nThus,\\n\\n\\\\( c + e = 0 \\\\)\\n\\nWhich implies \\\\( e = -c \\\\)\\n\\nSimilarly, midpoint \\\\( (d, e) \\\\) should lie on \\\\( A_2A_3 \\\\), which is from \\\\( (2a, 0) \\\\) to \\\\( (2b, 2c) \\\\).\\n\\nEquation of \\\\( A_2A_3 \\\\): parametric form \\\\( x = 2a + t(2b - 2a) \\\\), \\\\( y = 0 + t(2c - 0) = 2c t \\\\), \\\\( t \\\\in [0,1] \\\\).\\n\\nSo,\\n\\n\\\\( d = 2a + t(2b - 2a) \\\\)\\n\\n\\\\( e = 2c t \\\\)\\n\\nFrom the second equation:\\n\\n\\\\( e = 2c t \\\\)\\n\\nBut earlier, we have \\\\( e = -c \\\\), so:\\n\\n\\\\( -c = 2c t \\\\)\\n\\nAssuming \\\\( c \\\\neq 0 \\\\) (otherwise, all points would be on the x-axis, which would make three points collinear, which is not allowed), we can divide both sides by \\\\( c \\\\):\\n\\n\\\\( -1 = 2 t \\\\)\\n\\nSo,\\n\\n\\\\( t = -1/2 \\\\)\\n\\n<keep>But \\\\( t \\\\) must be between 0 and 1, so this is impossible.</keep>\\n\\n<keep>Therefore, our assumption leads to a contradiction, meaning that \\\\( n = 4 \\\\) is impossible.</keep>\\n\\nWait, but maybe I made a mistake in setting up the coordinates. Let me check again.\\n\\nWe set \\\\( e = -c \\\\), which came from the midpoint \\\\( (b + d, c + e) \\\\) needing to lie on the x-axis. So, \\\\( c + e = 0 \\\\). Then, from the midpoint \\\\( (d, e) \\\\) lying on \\\\( A_2A_3 \\\\), we have \\\\( e = 2c t \\\\), which gives \\\\( t = -1/2 \\\\), which is invalid. So, no solution for \\\\( n = 4 \\\\).\\n\\n<keep>Hence, \\\\( n = 4 \\\\) is impossible.</keep>\\n\\n**Case 3: \\\\( n = 5 \\\\)**\\n\\nNow, moving on to \\\\( n = 5 \\\\). Let's see if a pentagon can satisfy the conditions.\\n\\n<keep>This might be more complex, but perhaps with symmetry, it's possible.</keep>\\n\\nAlternatively, maybe a regular pentagon? <keep>In a regular pentagon, each edge's midpoint is equidistant from the center. However, in a regular pentagon, the midpoints of the edges do not lie on any other edge.</keep> So, a regular pentagon won't work.\\n\\nAlternatively, maybe a non-regular pentagon where each midpoint lies on another edge.\\n\\nThis seems complicated, but perhaps we can construct such a pentagon.\\n\\nAlternatively, perhaps it's easier to think in terms of graph theory or combinatorics.\\n\\nEach edge has a midpoint, and each midpoint must lie on another edge. So, for each edge, there is another edge that contains its midpoint.\\n\\nThis is like a permutation where each edge is paired with another edge such that the midpoint of one lies on the other.\\n\\nBut in a pentagon, each edge is connected to two others, but we need a specific pairing.\\n\\nWait, but in a pentagon, each edge has a midpoint, and each midpoint must lie on another edge. So, each edge must be paired with another edge such that the midpoint of the first lies on the second.\\n\\n<keep>But in a pentagon, since it's odd, we can't have a perfect matching of edges.</keep> Each edge<keep> would have to be paired with another, but since 5 is odd, one edge would be left out, which is not acceptable.</keep>\\n\\nWait, no, because in a pentagon, each edge is adjacent to two others, but perhaps each edge can have its midpoint lying on a non-adjacent edge.\\n\\nBut in that case, we need a specific configuration.\\n\\nAlternatively, maybe a star-shaped pentagon, like a pentagram. In a pentagram, the edges cross each other, so midpoints could lie on intersections.\\n\\nBut in a pentagram, the midpoints of the edges might lie at the intersections, which are the vertices of the inner pentagon. But in that case, the midpoints would coincide with the vertices, but the condition is that the midpoint must lie on another edge, not necessarily at a vertex.\\n\\nBut wait, in a pentagram, the edges are the lines connecting non-adjacent vertices, so the midpoints might not lie on other edges.\\n\\nThis is getting complicated.<keep> Maybe \\\\( n = 5 \\\\) is also impossible.</keep>\\n\\nAlternatively, perhaps \\\\( n = 6 \\\\) is the minimal.\\n\\n**Case 4: \\\\( n = 6 \\\\)**\\n\\nLet me consider a hexagon. A regular hexagon might not work, as the midpoints of edges are not on other edges, but maybe a non-regular hexagon can be constructed.\\n\\nAlternatively, maybe a three-dimensional figure, but the problem specifies points in a plane with no three collinear, so it's planar.\\n\\nAlternatively, perhaps a hexagon where each pair of opposite edges have their midpoints lying on each other.\\n\\nSo, for example, in a hexagon, edges 1 and 4, 2 and 5, 3 and 6 are opposite.\\n\\n<keep>If we can arrange the hexagon such that the midpoint of edge 1 lies on edge 4, the midpoint of edge 2 lies on edge 5, etc.</keep>\\n\\nThis might be possible.\\n\\nLet me try to construct such a hexagon.\\n\\nLet me assign coordinates to the points.\\n\\n<keep>Let me consider a symmetric hexagon, perhaps with opposite edges parallel and equal.</keep>\\n\\nLet me define points \\\\( A_1, A_2, A_3, A_4, A_5, A_6 \\\\) such that \\\\( A_1A_2 \\\\) is opposite to \\\\( A_4A_5 \\\\), \\\\( A_2A_3 \\\\) opposite to \\\\( A_5A_6 \\\\), and \\\\( A_3A_4 \\\\) opposite to \\\\( A_6A_1 \\\\).\\n\\nIf I can make the midpoints of each edge lie on the opposite edge, that would satisfy the condition.\\n\\nSo, for example, midpoint of \\\\( A_1A_2 \\\\) lies on \\\\( A_4A_5 \\\\), midpoint of \\\\( A_2A_3 \\\\) lies on \\\\( A_5A_6 \\\\), and so on.\\n\\nTo achieve this, perhaps the hexagon is centrally symmetric, meaning that for each point \\\\( A_i \\\\), there is a point \\\\( A_{i+3} \\\\) such that they are symmetric with respect to the center.\\n\\nIn such a case, the midpoint of \\\\( A_iA_{i+1} \\\\) would be the same as the midpoint of \\\\( A_{i+3}A_{i+4} \\\\), because of the symmetry.\\n\\nWait, but in a centrally symmetric hexagon, each edge is opposite to another edge, and their midpoints would coincide. So, the midpoints would lie on the opposite edges.\\n\\nYes, <keep>in a centrally symmetric hexagon, each edge's midpoint is the same as the midpoint of the opposite edge, and since the opposite edges are parallel and equal, the midpoint would lie on the opposite edge.</keep>\\n\\n<keep>Therefore, a centrally symmetric hexagon would satisfy the condition.</keep>\\n\\nLet me confirm.\\n\\nSuppose we have a centrally symmetric hexagon, with center at point \\\\( O \\\\). Then, for each edge \\\\( A_iA_{i+1} \\\\), the midpoint \\\\( M_i \\\\) is the same as the midpoint of the opposite edge \\\\( A_{i+3}A_{i+4} \\\\). Since the hexagon is symmetric, the edge \\\\( A_{i+3}A_{i+4} \\\\) is the reflection of \\\\( A_iA_{i+1} \\\\) over \\\\( O \\\\). <keep>Therefore, the midpoint \\\\( M_i \\\\) lies on \\\\( A_{i+3}A_{i+4} \\\\), which is the opposite edge.</keep>\\n\\nThus, each midpoint lies on the opposite edge, which is another edge of the hexagon. Therefore, the condition is satisfied.\\n\\n<keep>Therefore, \\\\( n = 6 \\\\) is possible.</keep>\\n\\nBut is \\\\( n = 5 \\\\) possible? Earlier, I thought it's difficult because of the odd number, but maybe it's still possible.\\n\\nWait, in a pentagon, each edge's midpoint needs to lie on another edge. Since 5 is odd, each edge can't be paired with another edge in a symmetric way as in the hexagon. Therefore, it's not possible to have such a symmetric pairing.\\n\\n<keep>Hence, the minimal \\\\( n \\\\) is 6.</keep>\\n\\n**Final Answer**\\n\\\\boxed{6}\\n\""
      ]
     },
     "execution_count": 36,
     "metadata": {},
     "output_type": "execute_result"
    }
   ],
   "source": [
    "dpo_df['tagged_response'].iloc[0]"
   ]
  },
  {
   "cell_type": "code",
   "execution_count": 37,
   "metadata": {},
   "outputs": [],
   "source": [
    "extracted_text = dpo_df['tagged_response'].apply(lambda x: '\\n'.join(extract_keep_text_from_response(x)))"
   ]
  },
  {
   "cell_type": "code",
   "execution_count": 38,
   "metadata": {},
   "outputs": [
    {
     "data": {
      "text/plain": [
       "np.int64(5824)"
      ]
     },
     "execution_count": 38,
     "metadata": {},
     "output_type": "execute_result"
    }
   ],
   "source": [
    "extracted_text.apply(lambda x: len(tokenizer.tokenize(x)) < 100).sum()"
   ]
  },
  {
   "cell_type": "code",
   "execution_count": 39,
   "metadata": {},
   "outputs": [],
   "source": [
    "dpo_df[\"extracted_keep_text\"] = extracted_text\n",
    "dpo_df[\"extracted_keep_text_len\"] = dpo_df[\"extracted_keep_text\"].apply(lambda x: len(tokenizer.tokenize(x)))"
   ]
  },
  {
   "cell_type": "code",
   "execution_count": 56,
   "metadata": {},
   "outputs": [
    {
     "data": {
      "text/plain": [
       "np.int64(40444)"
      ]
     },
     "execution_count": 56,
     "metadata": {},
     "output_type": "execute_result"
    }
   ],
   "source": [
    "dpo_df[\"extracted_keep_text_len\"].apply(lambda x: x < 1500 and x > 40).sum()"
   ]
  },
  {
   "cell_type": "code",
   "execution_count": 54,
   "metadata": {},
   "outputs": [
    {
     "data": {
      "text/plain": [
       "<Axes: >"
      ]
     },
     "execution_count": 54,
     "metadata": {},
     "output_type": "execute_result"
    },
    {
     "data": {
      "image/png": "[encoded data removed]",
      "text/plain": [
       "<Figure size 640x480 with 1 Axes>"
      ]
     },
     "metadata": {},
     "output_type": "display_data"
    }
   ],
   "source": [
    "dpo_df[dpo_df['extracted_keep_text_len'].apply(lambda x: x < 150)]['extracted_keep_text_len'].hist(bins=50)"
   ]
  },
  {
   "cell_type": "code",
   "execution_count": 57,
   "metadata": {},
   "outputs": [],
   "source": [
    "dpo_df = dpo_df[(dpo_df[\"extracted_keep_text_len\"] < 1500) & (dpo_df[\"extracted_keep_text_len\"] > 40)]"
   ]
  },
  {
   "cell_type": "code",
   "execution_count": 58,
   "metadata": {},
   "outputs": [],
   "source": [
    "dpo_df[\"combined_length\"] = dpo_df.apply(lambda row: len(tokenizer.tokenize(row[\"question\"])) + len(tokenizer.tokenize(row[\"tagged_response\"])), axis=1)"
   ]
  },
  {
   "cell_type": "code",
   "execution_count": 59,
   "metadata": {},
   "outputs": [],
   "source": [
    "# format into a huggingface preference dataset\n",
    "from datasets import Dataset\n",
    "\n",
    "system_prompt = \"You are a helpful AI Assistant who provides well-reasoned and accurate responses to math problems. You should think step-by-step, and the answer is an integer. Return the final answer within \\\\boxed{} after taking modulo 1000.\"\n",
    "\n",
    "def generate_prompt(system_prompt, question):\n",
    "    return [\n",
    "        {\"role\": \"system\", \"content\": system_prompt},\n",
    "        {\"role\": \"user\", \"content\": question}\n",
    "    ]\n",
    "\n",
    "pref_data_dict = {\n",
    "    \"prompt\": dpo_df[\"question\"].apply(lambda x: generate_prompt(system_prompt, x)),\n",
    "    \"chosen\": dpo_df[\"tagged_response\"],\n",
    "    \"rejected\": dpo_df[\"reasoning\"]\n",
    "}\n",
    "\n",
    "pref_dataset = Dataset.from_dict(pref_data_dict)\n"
   ]
  },
  {
   "cell_type": "code",
   "execution_count": 60,
   "metadata": {},
   "outputs": [
    {
     "data": {
      "application/vnd.jupyter.widget-view+json": {
       "model_id": "0bc3224a30b74c0cad6c9dbddf928ec5",
       "version_major": 2,
       "version_minor": 0
      },
      "text/plain": [
       "Uploading the dataset shards:   0%|          | 0/3 [00:00<?, ?it/s]"
      ]
     },
     "metadata": {},
     "output_type": "display_data"
    },
    {
     "data": {
      "application/vnd.jupyter.widget-view+json": {
       "model_id": "05d98b0d7e844428ab0a39e51f554b34",
       "version_major": 2,
       "version_minor": 0
      },
      "text/plain": [
       "Creating parquet from Arrow format:   0%|          | 0/14 [00:00<?, ?ba/s]"
      ]
     },
     "metadata": {},
     "output_type": "display_data"
    },
    {
     "data": {
      "application/vnd.jupyter.widget-view+json": {
       "model_id": "117d4b6e323c4ba1995afd09470c8f82",
       "version_major": 2,
       "version_minor": 0
      },
      "text/plain": [
       "Creating parquet from Arrow format:   0%|          | 0/14 [00:00<?, ?ba/s]"
      ]
     },
     "metadata": {},
     "output_type": "display_data"
    },
    {
     "data": {
      "application/vnd.jupyter.widget-view+json": {
       "model_id": "f18475667f5e4f0cba89defd1c07df58",
       "version_major": 2,
       "version_minor": 0
      },
      "text/plain": [
       "Creating parquet from Arrow format:   0%|          | 0/14 [00:00<?, ?ba/s]"
      ]
     },
     "metadata": {},
     "output_type": "display_data"
    },
    {
     "data": {
      "application/vnd.jupyter.widget-view+json": {
       "model_id": "e128214b45e240ee907bc0f76fae294c",
       "version_major": 2,
       "version_minor": 0
      },
      "text/plain": [
       "README.md:   0%|          | 0.00/424 [00:00<?, ?B/s]"
      ]
     },
     "metadata": {},
     "output_type": "display_data"
    },
    {
     "data": {
      "text/plain": [
       "CommitInfo(commit_url='https://huggingface.co/datasets/samitizerxu/aimo-dpo-ds/commit/8e20280b63bdd8bfca56e3fc55cce34b20bf10eb', commit_message='Upload dataset', commit_description='', oid='8e20280b63bdd8bfca56e3fc55cce34b20bf10eb', pr_url=None, repo_url=RepoUrl('https://huggingface.co/datasets/samitizerxu/aimo-dpo-ds', endpoint='https://huggingface.co', repo_type='dataset', repo_id='samitizerxu/aimo-dpo-ds'), pr_revision=None, pr_num=None)"
      ]
     },
     "execution_count": 60,
     "metadata": {},
     "output_type": "execute_result"
    }
   ],
   "source": [
    "\n",
    "pref_dataset.push_to_hub(\"samitizerxu/aimo-dpo-ds\", private=True)\n"
   ]
  },
  {
   "cell_type": "code",
   "execution_count": null,
   "metadata": {},
   "outputs": [],
   "source": [
    "extracted_text.apply(lambda x: len(tokenizer.tokenize(x))).hist(bins=100)"
   ]
  },
  {
   "cell_type": "code",
   "execution_count": 117,
   "metadata": {},
   "outputs": [
    {
     "data": {
      "text/plain": [
       "<Axes: >"
      ]
     },
     "execution_count": 117,
     "metadata": {},
     "output_type": "execute_result"
    },
    {
     "data": {
      "image/png": "[encoded data removed]",
      "text/plain": [
       "<Figure size 640x480 with 1 Axes>"
      ]
     },
     "metadata": {},
     "output_type": "display_data"
    }
   ],
   "source": [
    "extracted_text.apply(lambda x: len(tokenizer.tokenize(x))).hist(bins=100)"
   ]
  },
  {
   "cell_type": "code",
   "execution_count": null,
   "metadata": {},
   "outputs": [],
   "source": []
  },
  {
   "cell_type": "code",
   "execution_count": 93,
   "metadata": {},
   "outputs": [],
   "source": [
    "j = 31\n",
    "with open('ds_original_reasoning.txt', 'w') as f:\n",
    "    f.write(dpo_df[dpo_df['diff'] < 200]['reasoning'].iloc[j])\n",
    "with open('ds_tagged_reasoning.txt', 'w') as f:\n",
    "    f.write(dpo_df[dpo_df['diff'] < 200]['tagged_response'].iloc[j])\n"
   ]
  },
  {
   "cell_type": "code",
   "execution_count": 33,
   "metadata": {},
   "outputs": [],
   "source": [
    "from datasets import load_dataset\n",
    "\n",
    "dataset = load_dataset(\"samitizerxu/aimo-dpo-ds\", split=\"train\")"
   ]
  },
  {
   "cell_type": "code",
   "execution_count": 34,
   "metadata": {},
   "outputs": [
    {
     "data": {
      "text/plain": [
       "Index(['prompt', 'chosen', 'rejected'], dtype='object')"
      ]
     },
     "execution_count": 34,
     "metadata": {},
     "output_type": "execute_result"
    }
   ],
   "source": [
    "import pandas as pd\n",
    "\n",
    "df = pd.DataFrame(dataset)\n",
    "df.columns"
   ]
  },
  {
   "cell_type": "code",
   "execution_count": 35,
   "metadata": {},
   "outputs": [],
   "source": [
    "from transformers import AutoTokenizer\n",
    "# Format into KTO format\n",
    "from datasets import Dataset\n",
    "# i.e.\n",
    "kto_dataset_dict = {\n",
    "    \"prompt\": [],\n",
    "    \"completion\": [],\n",
    "    \"label\": [],\n",
    "}\n",
    "tokenizer = AutoTokenizer.from_pretrained(\"deepseek-ai/DeepSeek-R1-Distill-Qwen-14B\")\n",
    "\n",
    "for i in range(len(df)):\n",
    "    kto_dataset_dict[\"prompt\"].append(tokenizer.apply_chat_template(df[\"prompt\"].iloc[i], tokenize=False, add_generation_prompt=True))\n",
    "    if df[\"chosen\"].iloc[i].startswith(\"<think>\"):\n",
    "        kto_dataset_dict[\"completion\"].append(df[\"chosen\"].iloc[i][len(\"<think>\"):])\n",
    "    else:\n",
    "        kto_dataset_dict[\"completion\"].append(df[\"chosen\"].iloc[i])\n",
    "    kto_dataset_dict[\"label\"].append(True)\n",
    "    kto_dataset_dict[\"prompt\"].append(tokenizer.apply_chat_template(df[\"prompt\"].iloc[i], tokenize=False, add_generation_prompt=True))\n",
    "    if df[\"rejected\"].iloc[i].startswith(\"<think>\"):\n",
    "        kto_dataset_dict[\"completion\"].append(df[\"rejected\"].iloc[i][len(\"<think>\"):])\n",
    "    else:\n",
    "        kto_dataset_dict[\"completion\"].append(df[\"rejected\"].iloc[i])\n",
    "    kto_dataset_dict[\"label\"].append(False)\n",
    "\n",
    "# Split into train and test\n"
   ]
  },
  {
   "cell_type": "code",
   "execution_count": 37,
   "metadata": {},
   "outputs": [
    {
     "data": {
      "application/vnd.jupyter.widget-view+json": {
       "model_id": "01062493494f4d0a8f54bf21e30cf38b",
       "version_major": 2,
       "version_minor": 0
      },
      "text/plain": [
       "Uploading the dataset shards:   0%|          | 0/3 [00:00<?, ?it/s]"
      ]
     },
     "metadata": {},
     "output_type": "display_data"
    },
    {
     "data": {
      "application/vnd.jupyter.widget-view+json": {
       "model_id": "b4212f61c19e4e51b4f7c719d9cc0d89",
       "version_major": 2,
       "version_minor": 0
      },
      "text/plain": [
       "Creating parquet from Arrow format:   0%|          | 0/26 [00:00<?, ?ba/s]"
      ]
     },
     "metadata": {},
     "output_type": "display_data"
    },
    {
     "data": {
      "application/vnd.jupyter.widget-view+json": {
       "model_id": "76f0e0f3c7dc4a9b8f82b5c9f4929fd8",
       "version_major": 2,
       "version_minor": 0
      },
      "text/plain": [
       "Creating parquet from Arrow format:   0%|          | 0/26 [00:00<?, ?ba/s]"
      ]
     },
     "metadata": {},
     "output_type": "display_data"
    },
    {
     "data": {
      "application/vnd.jupyter.widget-view+json": {
       "model_id": "7f05038300334178b9abe1730e1bc018",
       "version_major": 2,
       "version_minor": 0
      },
      "text/plain": [
       "Creating parquet from Arrow format:   0%|          | 0/26 [00:00<?, ?ba/s]"
      ]
     },
     "metadata": {},
     "output_type": "display_data"
    },
    {
     "data": {
      "application/vnd.jupyter.widget-view+json": {
       "model_id": "faf9e06e387c42f1bd1a8e9d5405c244",
       "version_major": 2,
       "version_minor": 0
      },
      "text/plain": [
       "Uploading the dataset shards:   0%|          | 0/1 [00:00<?, ?it/s]"
      ]
     },
     "metadata": {},
     "output_type": "display_data"
    },
    {
     "data": {
      "application/vnd.jupyter.widget-view+json": {
       "model_id": "1465b14f07ef4e11bf13e9432475eed1",
       "version_major": 2,
       "version_minor": 0
      },
      "text/plain": [
       "Creating parquet from Arrow format:   0%|          | 0/5 [00:00<?, ?ba/s]"
      ]
     },
     "metadata": {},
     "output_type": "display_data"
    },
    {
     "data": {
      "application/vnd.jupyter.widget-view+json": {
       "model_id": "14c46b7723c542e8b140345aa1eb6daa",
       "version_major": 2,
       "version_minor": 0
      },
      "text/plain": [
       "README.md:   0%|          | 0.00/356 [00:00<?, ?B/s]"
      ]
     },
     "metadata": {},
     "output_type": "display_data"
    },
    {
     "data": {
      "text/plain": [
       "CommitInfo(commit_url='https://huggingface.co/datasets/samitizerxu/aimo-kto-ds/commit/228d884ad29565bbcbd467d49cfc27e620b4ba49', commit_message='Upload dataset', commit_description='', oid='228d884ad29565bbcbd467d49cfc27e620b4ba49', pr_url=None, repo_url=RepoUrl('https://huggingface.co/datasets/samitizerxu/aimo-kto-ds', endpoint='https://huggingface.co', repo_type='dataset', repo_id='samitizerxu/aimo-kto-ds'), pr_revision=None, pr_num=None)"
      ]
     },
     "execution_count": 37,
     "metadata": {},
     "output_type": "execute_result"
    }
   ],
   "source": [
    "from sklearn.model_selection import train_test_split\n",
    "\n",
    "df = pd.DataFrame(kto_dataset_dict)\n",
    "train_df, test_df = train_test_split(df, test_size=0.05, random_state=42)\n",
    "\n",
    "# remove index column\n",
    "train_df.reset_index(drop=True, inplace=True)\n",
    "test_df.reset_index(drop=True, inplace=True)\n",
    "\n",
    "kto_train_dataset = Dataset.from_pandas(train_df)\n",
    "kto_test_dataset = Dataset.from_pandas(test_df)\n",
    "kto_train_dataset.push_to_hub(\"samitizerxu/aimo-kto-ds\", private=True, split=\"train\")\n",
    "kto_test_dataset.push_to_hub(\"samitizerxu/aimo-kto-ds\", private=True, split=\"test\")"
   ]
  }
 ],
 "metadata": {
  "kernelspec": {
   "display_name": "ML",
   "language": "python",
   "name": "python3"
  },
  "language_info": {
   "codemirror_mode": {
    "name": "ipython",
    "version": 3
   },
   "file_extension": ".py",
   "mimetype": "text/x-python",
   "name": "python",
   "nbconvert_exporter": "python",
   "pygments_lexer": "ipython3",
   "version": "3.10.12"
  }
 },
 "nbformat": 4,
 "nbformat_minor": 2
}
